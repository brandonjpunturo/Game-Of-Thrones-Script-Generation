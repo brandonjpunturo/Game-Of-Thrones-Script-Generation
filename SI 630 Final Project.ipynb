{
 "cells": [
  {
   "cell_type": "code",
   "execution_count": 8,
   "metadata": {
    "ExecuteTime": {
     "end_time": "2019-04-24T14:21:04.580720Z",
     "start_time": "2019-04-24T14:21:04.558434Z"
    }
   },
   "outputs": [],
   "source": [
    "import matplotlib.pyplot as plt\n",
    "import seaborn as sns\n",
    "import pandas as pd\n",
    "import numpy as np\n",
    "\n",
    "import lyricsgenius as genius\n",
    "from bs4 import BeautifulSoup\n",
    "\n",
    "from nltk.tokenize import word_tokenize\n",
    "from nltk.parse.corenlp import CoreNLPParser\n",
    "from nltk.corpus import words\n",
    "\n",
    "import tensorflow\n",
    "import keras\n",
    "from keras.models import Sequential\n",
    "from keras.layers import Dense, Activation,Dropout,Flatten\n",
    "from keras.layers import LSTM,Bidirectional,Embedding, Input,SpatialDropout1D\n",
    "from keras.optimizers import RMSprop\n",
    "from keras.models import Model,load_model\n",
    "from keras.callbacks import LambdaCallback, ModelCheckpoint,EarlyStopping\n",
    "from keras.utils import to_categorical\n",
    "\n",
    "from sklearn.feature_extraction.text import CountVectorizer\n",
    "from sklearn.feature_extraction.text import TfidfTransformer\n",
    "from sklearn.model_selection import train_test_split,ShuffleSplit,cross_val_score\n",
    "from sklearn.linear_model import LogisticRegression\n",
    "from sklearn.naive_bayes import GaussianNB\n",
    "from sklearn.metrics import accuracy_score, precision_score,recall_score,auc,f1_score,classification_report\n",
    "\n",
    "from yellowbrick.classifier import ClassificationReport\n",
    "from yellowbrick.classifier import ConfusionMatrix\n",
    "\n",
    "import math\n",
    "import re\n",
    "import string\n",
    "import requests\n",
    "from collections import Counter\n",
    "import random\n",
    "import sys\n",
    "import io\n",
    "\n",
    "from gensim.scripts.glove2word2vec import glove2word2vec\n",
    "from gensim.models import KeyedVectors\n",
    "\n",
    "from io import BytesIO\n",
    "import zipfile\n",
    "from zipfile import ZipFile\n",
    "from urllib.request import urlopen\n",
    "\n",
    "plt.style.use(\"ggplot\")\n",
    "%matplotlib inline "
   ]
  },
  {
   "cell_type": "markdown",
   "metadata": {},
   "source": [
    "## Gathering Scripts"
   ]
  },
  {
   "cell_type": "code",
   "execution_count": null,
   "metadata": {
    "ExecuteTime": {
     "end_time": "2019-04-15T03:31:46.671967Z",
     "start_time": "2019-04-15T03:31:44.669Z"
    }
   },
   "outputs": [],
   "source": [
    "api = genius.Genius('API_Key')\n",
    "Game_Of_Thrones = api.search_artist('Game of Thrones', max_songs=100)\n",
    "Game_Of_Thrones.save_lyrics()#Saving Lyrics"
   ]
  },
  {
   "cell_type": "markdown",
   "metadata": {},
   "source": [
    "## Some Exploratory Data Analysis of the script"
   ]
  },
  {
   "cell_type": "code",
   "execution_count": 2,
   "metadata": {
    "ExecuteTime": {
     "end_time": "2019-04-24T14:19:27.232197Z",
     "start_time": "2019-04-24T14:19:27.146125Z"
    }
   },
   "outputs": [],
   "source": [
    "json_file = pd.read_json(\"Lyrics_GameofThrones.json\")#reading in file"
   ]
  },
  {
   "cell_type": "code",
   "execution_count": 3,
   "metadata": {
    "ExecuteTime": {
     "end_time": "2019-04-24T14:19:27.927340Z",
     "start_time": "2019-04-24T14:19:27.921159Z"
    }
   },
   "outputs": [],
   "source": [
    "values = list(json_file.songs.values)#converting lyrics to dataframe\n",
    "converted = pd.DataFrame(values)"
   ]
  },
  {
   "cell_type": "code",
   "execution_count": 4,
   "metadata": {
    "ExecuteTime": {
     "end_time": "2019-04-24T14:19:29.178810Z",
     "start_time": "2019-04-24T14:19:28.463951Z"
    }
   },
   "outputs": [
    {
     "name": "stderr",
     "output_type": "stream",
     "text": [
      "/anaconda/lib/python3.6/site-packages/pandas/plotting/_core.py:185: UserWarning: 'colors' is being deprecated. Please use 'color'instead of 'colors'\n",
      "  warnings.warn((\"'colors' is being deprecated. Please use 'color'\"\n"
     ]
    },
    {
     "data": {
      "text/plain": [
       "<matplotlib.axes._subplots.AxesSubplot at 0x134eee908>"
      ]
     },
     "execution_count": 4,
     "metadata": {},
     "output_type": "execute_result"
    },
    {
     "data": {
      "image/png": "[encoded data removed]",
      "text/plain": [
       "<Figure size 1440x720 with 1 Axes>"
      ]
     },
     "metadata": {
      "needs_background": "light"
     },
     "output_type": "display_data"
    }
   ],
   "source": [
    "#visualizing which seasons have complete/incomplete data\n",
    "plt.figure(figsize = (20,10))\n",
    "season_counts = (converted.album.value_counts())\n",
    "season_counts.plot(kind = \"bar\",colors = [\"b\",\"r\",\"g\",\"orange\"],title = \"Distribution of episodes\")"
   ]
  },
  {
   "cell_type": "code",
   "execution_count": 5,
   "metadata": {
    "ExecuteTime": {
     "end_time": "2019-04-24T14:19:29.195980Z",
     "start_time": "2019-04-24T14:19:29.182693Z"
    }
   },
   "outputs": [
    {
     "data": {
      "text/plain": [
       "Season 5 Scripts    11\n",
       "Season 4 Scripts    11\n",
       "Season 2 Scripts    10\n",
       "Season 1 Scripts    10\n",
       "Season 6 Scripts    10\n",
       "Season 7 Scripts     7\n",
       "Season 3 Scripts     4\n",
       "Name: album, dtype: int64"
      ]
     },
     "execution_count": 5,
     "metadata": {},
     "output_type": "execute_result"
    }
   ],
   "source": [
    "converted=converted[converted.album!=\"Saison 1\"]\n",
    "(converted.album.value_counts())"
   ]
  },
  {
   "cell_type": "markdown",
   "metadata": {},
   "source": [
    "# Uploading Pre-Trained Embeddings"
   ]
  },
  {
   "cell_type": "code",
   "execution_count": 13,
   "metadata": {
    "ExecuteTime": {
     "end_time": "2019-04-24T14:22:00.752814Z",
     "start_time": "2019-04-24T14:22:00.749168Z"
    }
   },
   "outputs": [],
   "source": [
    "name_of_file = \"glove.6B.200d.txt.word2vec\""
   ]
  },
  {
   "cell_type": "code",
   "execution_count": 14,
   "metadata": {
    "ExecuteTime": {
     "end_time": "2019-04-24T14:23:45.176874Z",
     "start_time": "2019-04-24T14:22:01.095948Z"
    }
   },
   "outputs": [],
   "source": [
    "# Load embeddings into notebook\n",
    "glove = KeyedVectors.load_word2vec_format(name_of_file, binary=False)"
   ]
  },
  {
   "cell_type": "markdown",
   "metadata": {},
   "source": [
    "## Preprocessing Texts"
   ]
  },
  {
   "cell_type": "code",
   "execution_count": 15,
   "metadata": {
    "ExecuteTime": {
     "end_time": "2019-04-24T14:23:45.184816Z",
     "start_time": "2019-04-24T14:23:45.180117Z"
    }
   },
   "outputs": [],
   "source": [
    "strings=re.sub(\":\",\"\",string.punctuation) #removing semi-colons from punctuation"
   ]
  },
  {
   "cell_type": "code",
   "execution_count": 16,
   "metadata": {
    "ExecuteTime": {
     "end_time": "2019-04-24T14:23:45.533493Z",
     "start_time": "2019-04-24T14:23:45.189338Z"
    }
   },
   "outputs": [],
   "source": [
    "converted[\"clean_lyrics\"]=converted.lyrics.apply(func=lambda x: x.translate(str.maketrans('', '', strings)))\n",
    "#removing punctuation from scripts"
   ]
  },
  {
   "cell_type": "code",
   "execution_count": 17,
   "metadata": {
    "ExecuteTime": {
     "end_time": "2019-04-24T14:23:46.731559Z",
     "start_time": "2019-04-24T14:23:45.537795Z"
    }
   },
   "outputs": [],
   "source": [
    "def sub_out(x):\n",
    "    \"\"\"Separating colons from words\"\"\"\n",
    "    su=re.sub(\"\\n\",'\\n'*2,x)\n",
    "\n",
    "    character_line=\" \".join(re.findall('(.*?:.*)',su))\n",
    "    \n",
    "    return character_line\n",
    "converted[\"tokenized\"]=converted.clean_lyrics.apply(func= lambda x: sub_out(x))"
   ]
  },
  {
   "cell_type": "code",
   "execution_count": 18,
   "metadata": {
    "ExecuteTime": {
     "end_time": "2019-04-24T14:23:46.758646Z",
     "start_time": "2019-04-24T14:23:46.734566Z"
    }
   },
   "outputs": [],
   "source": [
    "full_text=(\" \".join(converted[\"tokenized\"].values)).lower()\n",
    "#joining text"
   ]
  },
  {
   "cell_type": "code",
   "execution_count": 19,
   "metadata": {
    "ExecuteTime": {
     "end_time": "2019-04-24T14:23:46.808088Z",
     "start_time": "2019-04-24T14:23:46.763004Z"
    }
   },
   "outputs": [
    {
     "data": {
      "text/plain": [
       "267897"
      ]
     },
     "execution_count": 19,
     "metadata": {},
     "output_type": "execute_result"
    }
   ],
   "source": [
    "len(full_text.split(\" \"))"
   ]
  },
  {
   "cell_type": "code",
   "execution_count": 20,
   "metadata": {
    "ExecuteTime": {
     "end_time": "2019-04-24T14:23:47.318464Z",
     "start_time": "2019-04-24T14:23:46.812024Z"
    }
   },
   "outputs": [],
   "source": [
    "full_text=re.sub(\"\\s(\\s)\",\"\",full_text)#subbing out \\s\n",
    "#removing \\n from text\n",
    "text_in_words = [w for w in full_text.split(' ') if w.strip() != '' or w == '\\n' ]\n",
    "\n",
    "#this for-loop separates \":\" from words so that \"Tyrion:\" would become 'Tyrion' \":\"\n",
    "text_in_word = []\n",
    "for word_ in text_in_words: \n",
    "    if len(re.split(\":\",word_)) > 1:\n",
    "        split=re.split(\":\",word_)\n",
    "        split.insert(1,\":\")\n",
    "        for w in split:\n",
    "            if len(w) <1:\n",
    "                \"next\"\n",
    "            else:\n",
    "                text_in_word.append(w)\n",
    "            \n",
    "    else:\n",
    "        text_in_word.append(word_)"
   ]
  },
  {
   "cell_type": "markdown",
   "metadata": {},
   "source": [
    "## After some inspection I discovered that the text had quite a bit of mispelled words - so I removed words that were not coherent English or had not appeared 15 times (i.e. character names)"
   ]
  },
  {
   "cell_type": "code",
   "execution_count": 21,
   "metadata": {
    "ExecuteTime": {
     "end_time": "2019-04-24T14:23:47.509516Z",
     "start_time": "2019-04-24T14:23:47.322085Z"
    }
   },
   "outputs": [],
   "source": [
    "unique_words = set(text_in_word)\n",
    "word_counts = Counter(text_in_word)#count of each words\n",
    "english_words = words.words() #NLTK list of English words\n",
    "min_number = 12"
   ]
  },
  {
   "cell_type": "code",
   "execution_count": 22,
   "metadata": {
    "ExecuteTime": {
     "end_time": "2019-04-24T14:23:47.527896Z",
     "start_time": "2019-04-24T14:23:47.511779Z"
    }
   },
   "outputs": [
    {
     "name": "stdout",
     "output_type": "stream",
     "text": [
      "Count of unique words : 11487\n"
     ]
    }
   ],
   "source": [
    "print(\"Count of unique words : %d\" % len(word_counts))"
   ]
  },
  {
   "cell_type": "code",
   "execution_count": 23,
   "metadata": {
    "ExecuteTime": {
     "end_time": "2019-04-24T14:23:50.166321Z",
     "start_time": "2019-04-24T14:23:50.162441Z"
    }
   },
   "outputs": [],
   "source": [
    "def roundup(x):\n",
    "    return int(math.ceil(x / 50)) * 50"
   ]
  },
  {
   "cell_type": "code",
   "execution_count": 24,
   "metadata": {
    "ExecuteTime": {
     "end_time": "2019-04-24T14:23:50.951405Z",
     "start_time": "2019-04-24T14:23:50.940372Z"
    }
   },
   "outputs": [],
   "source": [
    "#rounding values to nearest 50\n",
    "rounded_values = [roundup(value) for b,value in word_counts.items()]"
   ]
  },
  {
   "cell_type": "code",
   "execution_count": 25,
   "metadata": {
    "ExecuteTime": {
     "end_time": "2019-04-24T14:23:53.901534Z",
     "start_time": "2019-04-24T14:23:53.133297Z"
    }
   },
   "outputs": [
    {
     "name": "stderr",
     "output_type": "stream",
     "text": [
      "/anaconda/lib/python3.6/site-packages/matplotlib/axes/_axes.py:6521: MatplotlibDeprecationWarning: \n",
      "The 'normed' kwarg was deprecated in Matplotlib 2.1 and will be removed in 3.1. Use 'density' instead.\n",
      "  alternative=\"'density'\", removal=\"3.1\")\n"
     ]
    },
    {
     "data": {
      "text/plain": [
       "[Text(0, 0.5, 'Number of words'),\n",
       " Text(0.5, 0, 'Number of appearences'),\n",
       " Text(0.5, 1.0, 'Distribution of word appearance')]"
      ]
     },
     "execution_count": 25,
     "metadata": {},
     "output_type": "execute_result"
    },
    {
     "data": {
      "image/png": "[encoded data removed]",
      "text/plain": [
       "<Figure size 1440x720 with 1 Axes>"
      ]
     },
     "metadata": {
      "needs_background": "light"
     },
     "output_type": "display_data"
    }
   ],
   "source": [
    "#Plotting distribution of word appearances\n",
    "plt.figure(figsize=(20,10))\n",
    "ax = sns.distplot(rounded_values,kde=False)\n",
    "ax.set(xlabel='Number of appearences', ylabel='Number of words',title=\"Distribution of word appearance\")"
   ]
  },
  {
   "cell_type": "code",
   "execution_count": 26,
   "metadata": {
    "ExecuteTime": {
     "end_time": "2019-04-24T14:24:25.762601Z",
     "start_time": "2019-04-24T14:23:54.927415Z"
    }
   },
   "outputs": [],
   "source": [
    "real_english = [word for word in word_counts.keys() if word in english_words] #which words are real?\n",
    "not_real = set(unique_words)-set(real_english) #what words are not real? According to NLTK\n",
    "new_text = [word for word in text_in_word if word not in not_real or word_counts[word] >= min_number]"
   ]
  },
  {
   "cell_type": "code",
   "execution_count": 27,
   "metadata": {
    "ExecuteTime": {
     "end_time": "2019-04-24T14:24:25.807059Z",
     "start_time": "2019-04-24T14:24:25.765560Z"
    }
   },
   "outputs": [],
   "source": [
    "new_text = re.sub(\"\\…|\\’|\\”|\\“|\\‘\",\"\",\" \".join(new_text)) #sub out these values"
   ]
  },
  {
   "cell_type": "code",
   "execution_count": 28,
   "metadata": {
    "ExecuteTime": {
     "end_time": "2019-04-24T14:24:26.450528Z",
     "start_time": "2019-04-24T14:24:25.809947Z"
    }
   },
   "outputs": [],
   "source": [
    "#what words are not in the pretrained Word Embeddings?\n",
    "i=0\n",
    "words_not_in_model=[]\n",
    "for word in new_text.split(\" \"):\n",
    "    try:\n",
    "        mode=glove[word]\n",
    "        i+=1\n",
    "    except KeyError: \n",
    "        try:\n",
    "           \n",
    "            mode=glove[word.title()]\n",
    "            i+=1\n",
    "        except:\n",
    "            try:\n",
    "                word=lemmatizer.lemmatize(word)\n",
    "                mode=glove[word]\n",
    "                i+=1\n",
    "            except:\n",
    "                words_not_in_model.append(word) #append word"
   ]
  },
  {
   "cell_type": "code",
   "execution_count": 29,
   "metadata": {
    "ExecuteTime": {
     "end_time": "2019-04-24T14:24:26.459619Z",
     "start_time": "2019-04-24T14:24:26.454028Z"
    }
   },
   "outputs": [],
   "source": [
    "unique_words = set(words_not_in_model)#unique words not present"
   ]
  },
  {
   "cell_type": "markdown",
   "metadata": {},
   "source": [
    "### Due to the fact that some names are not in pre-trained embeddings, the training set for becomes slightly smaller to make both consistent"
   ]
  },
  {
   "cell_type": "code",
   "execution_count": 30,
   "metadata": {
    "ExecuteTime": {
     "end_time": "2019-04-24T14:24:26.527714Z",
     "start_time": "2019-04-24T14:24:26.464619Z"
    }
   },
   "outputs": [],
   "source": [
    "training_text = [word for word in new_text.split(\" \") if word not in unique_words]\n",
    "#new training set"
   ]
  },
  {
   "cell_type": "code",
   "execution_count": 31,
   "metadata": {
    "ExecuteTime": {
     "end_time": "2019-04-24T14:24:26.556276Z",
     "start_time": "2019-04-24T14:24:26.530633Z"
    }
   },
   "outputs": [],
   "source": [
    "all_words = sorted(list(set(training_text)))#list of all words\n",
    "all_char_num=dict((char, num) for num, char in enumerate(all_words)) #word index\n",
    "all_num_char=dict((num, char) for num, char in enumerate(all_words))#number to word index"
   ]
  },
  {
   "cell_type": "code",
   "execution_count": 32,
   "metadata": {
    "ExecuteTime": {
     "end_time": "2019-04-24T14:24:27.122945Z",
     "start_time": "2019-04-24T14:24:26.560017Z"
    }
   },
   "outputs": [
    {
     "name": "stdout",
     "output_type": "stream",
     "text": [
      "Number of sequences: 263731\n",
      "\n"
     ]
    }
   ],
   "source": [
    "#Creating sequences\n",
    "max_len= 25\n",
    "sequence=[]\n",
    "n_char = []\n",
    "next_=[]\n",
    "for num in range(0, len(training_text) - max_len):\n",
    "    sequence.append((training_text)[num: num + max_len])\n",
    "    n_char.append((training_text)[num + max_len])\n",
    "print('Number of sequences:', len(sequence))\n",
    "print()\n"
   ]
  },
  {
   "cell_type": "code",
   "execution_count": 33,
   "metadata": {
    "ExecuteTime": {
     "end_time": "2019-04-24T14:24:27.131457Z",
     "start_time": "2019-04-24T14:24:27.125567Z"
    }
   },
   "outputs": [],
   "source": [
    "train_size=int(np.round(len(sequence)*.8,0))#training set \n",
    "test_size=int(train_size+(.05*len(sequence)))#test Set"
   ]
  },
  {
   "cell_type": "markdown",
   "metadata": {
    "ExecuteTime": {
     "end_time": "2019-04-10T15:28:07.833128Z",
     "start_time": "2019-04-10T15:28:07.825281Z"
    }
   },
   "source": [
    "## Essential Functions for both LSTMS"
   ]
  },
  {
   "cell_type": "code",
   "execution_count": 34,
   "metadata": {
    "ExecuteTime": {
     "end_time": "2019-04-24T14:24:27.142290Z",
     "start_time": "2019-04-24T14:24:27.135460Z"
    }
   },
   "outputs": [],
   "source": [
    "def sample(preds, temperature=1.0):\n",
    "    \"\"\"Function Taken From https://github.com/llSourcell/keras_explained/blob/master/gentext.py\"\"\"\n",
    "    # helper function to sample an index from a probability array\n",
    "    preds = np.asarray(preds).astype('float64')\n",
    "    preds = np.log(preds) / temperature\n",
    "    exp_preds = np.exp(preds)\n",
    "    preds = exp_preds / np.sum(exp_preds)\n",
    "    probas = np.random.multinomial(1, preds, 1)\n",
    "    return np.argmax(probas)"
   ]
  },
  {
   "cell_type": "code",
   "execution_count": 35,
   "metadata": {
    "ExecuteTime": {
     "end_time": "2019-04-24T14:24:27.159433Z",
     "start_time": "2019-04-24T14:24:27.145879Z"
    }
   },
   "outputs": [],
   "source": [
    "def on_epoch_end(epoch, _):\n",
    "    \"\"\"Function modeled From\"https://github.com/llSourcell/keras_explained/blob/master/gentext.py\"\"\"\n",
    "    # Function invoked at end of each epoch. Prints generated text.\n",
    "    print()\n",
    "    print('----- Generating text after Epoch: %d' % epoch)\n",
    "\n",
    "    start_index = random.randint(0, len(training_text) - max_len - 1)\n",
    "    for diversity in [0.2,.5,.8,1.2,1.5,1.8 ]:\n",
    "        print('----- diversity:', diversity)\n",
    "\n",
    "        generated = \"\"\n",
    "        sequence_ = training_text[start_index: start_index + max_len]\n",
    "        sequence=\" \".join(sequence_)\n",
    "        \n",
    "        generated += sequence\n",
    "        print('----- Generating with seed: \"' + sequence + '\"')\n",
    "        sys.stdout.write(generated)\n",
    "\n",
    "        for i in range(200):\n",
    "            x_pred = np.zeros((1, max_len, len(all_words)))\n",
    "            for b, char in enumerate(sequence_):\n",
    "                x_pred[0, b, all_char_num[char]] = 1.\n",
    "\n",
    "            preds = model.predict(x_pred, verbose=0)[0]\n",
    "            next_index = sample(preds, diversity)\n",
    "            next_char = all_num_char[next_index]\n",
    "\n",
    "            generated += \" \"+next_char\n",
    "            \n",
    "            sequence=sequence[1:]+ \" \"+ next_char\n",
    "            \n",
    "    \n",
    "        print(generated)\n",
    "        print()\n",
    "\n",
    "print_callback = LambdaCallback(on_epoch_end=on_epoch_end)\n"
   ]
  },
  {
   "cell_type": "code",
   "execution_count": 36,
   "metadata": {
    "ExecuteTime": {
     "end_time": "2019-04-24T14:24:27.173153Z",
     "start_time": "2019-04-24T14:24:27.162877Z"
    }
   },
   "outputs": [],
   "source": [
    "def generate_predictions(development_set,m):\n",
    "    \"\"\"Given a development set, generate artificial text\"\"\"\n",
    "    beginning = 0\n",
    "    end = 25\n",
    "    all_predictions = []\n",
    "    while beginning <= len(development_set):\n",
    "        seq_test = development_set[beginning : end]\n",
    "        all_predictions.append([all_num_char[sample(predict,temperature=1.0)] \n",
    "                                for predict in m.predict(seq_test)])\n",
    "        beginning+=25\n",
    "        end+=25\n",
    "    return all_predictions"
   ]
  },
  {
   "cell_type": "code",
   "execution_count": 47,
   "metadata": {
    "ExecuteTime": {
     "end_time": "2019-04-24T14:34:15.111390Z",
     "start_time": "2019-04-24T14:34:15.096606Z"
    }
   },
   "outputs": [],
   "source": [
    "def discriminant_data(m,dev_set,test_set):\n",
    "    \"\"\"Given a development & Test Set - generate data that can be used by a discriminant classifier to \n",
    "    determine if text is real or artificial\"\"\"\n",
    "    global sequence\n",
    "    all_others = sequence[test_size+1:]\n",
    "    all_others = [\" \".join(all_others[num]) for num,actual in enumerate(all_others)]\n",
    "    if hasattr(dev_X, 'shape'):\n",
    "        artificial_sequences = np.concatenate([dev_set,test_set])\n",
    "    else:\n",
    "        artificial_sequences = dev_set + test_set\n",
    "    predictions = generate_predictions(artificial_sequences,m)\n",
    "    artificial_text = [\" \".join(predictions[num]) for num,actual \n",
    "                           in enumerate(predictions)]\n",
    "    print(artificial_text[:5])\n",
    "    training_df = pd.DataFrame()#initializing df\n",
    "    real_df=pd.DataFrame()#initializing df\n",
    "    real_df[\"Text\"] = all_others #real sequences\n",
    "    real_df[\"Label\"] = [\"Real\" for i in range(len(all_others))]\n",
    "    real_df=real_df.sample(n=2000)#sampling small amount\n",
    "    training_df[\"Text\"] =  artificial_text #artificial text\n",
    "    training_df[\"Label\"] = [\"Generated\" for i in range(len(artificial_text))]\n",
    "    combined = pd.concat([real_df,training_df])\n",
    "    \n",
    "    #counting frequence of each word\n",
    "    count_vect = CountVectorizer()\n",
    "    X_train_counts = count_vect.fit_transform(combined.Text)\n",
    "    X_train_counts.shape\n",
    "    \n",
    "    #performing TF-IDF\n",
    "    tfidf_transformer = TfidfTransformer()\n",
    "    X_train_tfidf = tfidf_transformer.fit_transform(X_train_counts)\n",
    "    X_train_tfidf.shape\n",
    "    \n",
    "    #train/test split\n",
    "    X_train, X_test, y_train, y_test = train_test_split(X_train_tfidf,combined.Label , test_size=0.3, random_state=0)\n",
    "    \n",
    "    \n",
    "    return  X_train, X_test, y_train, y_test\n",
    "    #logistic regression\n",
    "    "
   ]
  },
  {
   "cell_type": "code",
   "execution_count": 48,
   "metadata": {
    "ExecuteTime": {
     "end_time": "2019-04-24T14:34:16.328757Z",
     "start_time": "2019-04-24T14:34:16.315399Z"
    }
   },
   "outputs": [],
   "source": [
    "def classification_metrics(m,X_test,y_test):\n",
    "    \n",
    "    \"\"\"Outputs the f1-Scores, accuracy, recall & precision on a 10 fold cross validation\"\"\"\n",
    "    cv = ShuffleSplit(n_splits=10, test_size=0.3, random_state=0)\n",
    "    print('****Results****')\n",
    "    acc = sum(cross_val_score(m, X_test, y_test, \n",
    "                                            cv=cv,scoring='accuracy'))/10\n",
    "\n",
    "\n",
    "    print(\"Accuracy: {:.4%}\".format(acc))\n",
    "\n",
    "    recall = sum(cross_val_score(m, X_test, y_test, \n",
    "                                            cv=cv,scoring='recall_weighted'))/10\n",
    "    print(\"Recall: {:.4%}\".format(recall))\n",
    "\n",
    "    precision = sum(cross_val_score(m, X_test, y_test, \n",
    "                                            cv=cv,scoring='precision_weighted'))/10\n",
    "    print(\"Precision: {:.4%}\".format(precision))\n",
    "\n",
    "    f1 =sum(cross_val_score(m, X_test, y_test, \n",
    "                                            cv=cv,scoring='f1_weighted'))/10\n",
    "\n",
    "    print(\"F1: {}\".format(f1))\n",
    "    return acc,f1,recall,precision"
   ]
  },
  {
   "cell_type": "code",
   "execution_count": 49,
   "metadata": {
    "ExecuteTime": {
     "end_time": "2019-04-24T14:34:16.785062Z",
     "start_time": "2019-04-24T14:34:16.773002Z"
    }
   },
   "outputs": [],
   "source": [
    "def discrimant_classifier(x_train,x_test,y_train,y_test):\n",
    "    \n",
    "    \"\"\"Given training and test data - use discrimant classifiers \n",
    "    to determine how distinguiable real text is from\n",
    "                    generated text\"\"\"\n",
    "    #logistic regression\n",
    "    Log=LogisticRegression()\n",
    "    Log.fit(X_train,y_train)\n",
    "    #make predictions\n",
    "    y_pred = Log.predict(X_test) \n",
    "    \n",
    "    #creating classification report\n",
    "    visualizer = ClassificationReport(Log, support=True)\n",
    "    visualizer.fit(X_train, y_train)  # Fit the visualizer and the model\n",
    "    visualizer.score(X_test, y_test)  # Evaluate the model on the test data\n",
    "    g = visualizer.poof()\n",
    "    classification_metrics(Log,X_test,y_test)\n",
    "    \n",
    "    #creating confusion matrix\n",
    "    cm = ConfusionMatrix(Log,cmap=\"Greys\")\n",
    "    # Fit fits the passed model. This is unnecessary if you pass the visualizer a pre-fitted model\n",
    "    cm.fit(X_train.toarray(), y_train)\n",
    "    cm.score(X_test.toarray(), y_test)\n",
    "    #visualize\n",
    "    cm.poof()\n",
    "    #Gaussian NB\n",
    "    Gauss=GaussianNB()\n",
    "    Gauss.fit(X_train.toarray(),y_train)\n",
    "    y_pred_gauss = Gauss.predict(X_test.toarray())\n",
    "    classification_metrics(Gauss,X_test.toarray(),y_test)\n",
    "    #creating classification report\n",
    "    visualizer = ClassificationReport(Gauss,cmap='YlGnBu',support=True)\n",
    "\n",
    "    visualizer.fit(X_train.toarray(), y_train)  \n",
    "    visualizer.score(X_test.toarray(), y_test)  # Evaluate the model on the test data\n",
    "    g = visualizer.poof()\n",
    "\n",
    "    #creating confusion matrix\n",
    "    cm = ConfusionMatrix(Gauss,cmap=\"BuPu\")\n",
    "    # Fit fits the passed model. This is unnecessary if you pass the visualizer a pre-fitted model\n",
    "    cm.fit(X_train.toarray(), y_train)\n",
    "    cm.score(X_test.toarray(), y_test)\n",
    "    #visualize\n",
    "    cm.poof()"
   ]
  },
  {
   "cell_type": "markdown",
   "metadata": {},
   "source": [
    "### One Hot Vector as input"
   ]
  },
  {
   "cell_type": "code",
   "execution_count": 40,
   "metadata": {
    "ExecuteTime": {
     "end_time": "2019-04-24T14:24:58.386193Z",
     "start_time": "2019-04-24T14:24:32.689184Z"
    }
   },
   "outputs": [],
   "source": [
    "#Matrix that will be input to LSTM\n",
    "X = np.zeros((len(sequence), max_len, len(all_words)), dtype=np.bool)\n",
    "y = np.zeros((len(sequence), len(all_words)), dtype=np.bool)\n",
    "for num, sentence in enumerate(sequence):\n",
    "    for n, word in enumerate(sentence):\n",
    "        X[num, n, all_char_num[word]]= 1\n",
    "    y[num, all_char_num[word]]=1"
   ]
  },
  {
   "cell_type": "code",
   "execution_count": 41,
   "metadata": {
    "ExecuteTime": {
     "end_time": "2019-04-24T14:24:58.395824Z",
     "start_time": "2019-04-24T14:24:58.389733Z"
    }
   },
   "outputs": [],
   "source": [
    "#splitting into training,test and validation sets\n",
    "train_X = X[:train_size,:,:]\n",
    "train_y = y[:train_size,:]\n",
    "\n",
    "test_X = X[train_size+1:test_size+1,:,:]\n",
    "test_y = y[train_size+1:test_size+1,:]\n",
    "\n",
    "dev_X = X[test_size+1:,:,:]\n",
    "dev_y = y[test_size+1:,:]"
   ]
  },
  {
   "cell_type": "code",
   "execution_count": 42,
   "metadata": {
    "ExecuteTime": {
     "end_time": "2019-04-24T14:24:58.881099Z",
     "start_time": "2019-04-24T14:24:58.399437Z"
    }
   },
   "outputs": [],
   "source": [
    "#setting up model\n",
    "model = Sequential()\n",
    "\n",
    "model.add(Bidirectional(LSTM(32),input_shape=(max_len, len(all_words))))#Bidirectional LSTM\n",
    "\n",
    "model.add(Dropout(0.4))#implementing dropout\n",
    "\n",
    "model.add(Dense(len(all_words),activation='softmax'))"
   ]
  },
  {
   "cell_type": "code",
   "execution_count": 43,
   "metadata": {
    "ExecuteTime": {
     "end_time": "2019-04-24T14:24:58.890443Z",
     "start_time": "2019-04-24T14:24:58.884607Z"
    }
   },
   "outputs": [],
   "source": [
    "# simple early stopping\n",
    "es = EarlyStopping(monitor='val_loss', mode='min', verbose=1)#earlystopping\n"
   ]
  },
  {
   "cell_type": "code",
   "execution_count": 44,
   "metadata": {
    "ExecuteTime": {
     "end_time": "2019-04-24T14:24:58.943474Z",
     "start_time": "2019-04-24T14:24:58.894537Z"
    }
   },
   "outputs": [],
   "source": [
    "optimizer = keras.optimizers.RMSprop(lr=0.001)\n",
    "model.compile(loss='categorical_crossentropy', optimizer=optimizer,metrics=[\"accuracy\"])"
   ]
  },
  {
   "cell_type": "markdown",
   "metadata": {},
   "source": [
    "# Don't Run this line below unless you want to wait several hours"
   ]
  },
  {
   "cell_type": "code",
   "execution_count": 30,
   "metadata": {
    "ExecuteTime": {
     "end_time": "2019-04-21T15:45:46.765575Z",
     "start_time": "2019-04-21T06:41:27.812512Z"
    }
   },
   "outputs": [
    {
     "name": "stdout",
     "output_type": "stream",
     "text": [
      "Train on 210985 samples, validate on 5000 samples\n",
      "Epoch 1/10\n",
      "210000/210985 [============================>.] - ETA: 12s - loss: 6.3069 - acc: 0.0729\n",
      "----- Generating text after Epoch: 0\n",
      "----- diversity: 0.2\n",
      "----- Generating with seed: \"enemies not our cut to : pyramid seaside grey worm : do not use me for your lies tyrion : those men respect you grey\"\n",
      "enemies not our cut to : pyramid seaside grey worm : do not use me for your lies tyrion : those men respect you greyenemies not our cut to : pyramid seaside grey worm : do not use me for your lies tyrion : those men respect you grey : : : : : : : : : : : : : : : the : : : : : : : : : : : : : : : : : : : : : : you : : : : : : : : : : : : : : : : : : : : : : : : : : : : : : : : : : : : : : : : : : : : : : : : : : : : : : : : : : : : : : : : : : : : : : : : i : : : : : : : : : : : : : : : : : : : : : : : : : : the : : : : : : : : : : : : : : : : : : : : : : : : : : : : : : : : : : : : : : : : : : : : : : : : : : : : : : : : : : : : :\n",
      "\n",
      "----- diversity: 0.5\n",
      "----- Generating with seed: \"enemies not our cut to : pyramid seaside grey worm : do not use me for your lies tyrion : those men respect you grey\"\n",
      "enemies not our cut to : pyramid seaside grey worm : do not use me for your lies tyrion : those men respect you greyenemies not our cut to : pyramid seaside grey worm : do not use me for your lies tyrion : those men respect you grey : what : the : i i : you i the : you : of a the the : : : : and i : the : : of a : the was : : : : your : the : : the that : : you you : : and my your the : dead : to : jaime : : i : here : : : the : : : : : : in my you : and of to : : you : : the : : to of the : : : : : : the i : : no you : the : : me know you : : : your the is the you : : of the : : : i the : the : they : the south : : : : : : you : : was the : : : be : the : the you : : : you the : : the you the the the : : : a : : : to you : you : the i it : : : : you was never : the you and : you : is : the\n",
      "\n",
      "----- diversity: 0.8\n",
      "----- Generating with seed: \"enemies not our cut to : pyramid seaside grey worm : do not use me for your lies tyrion : those men respect you grey\"\n",
      "enemies not our cut to : pyramid seaside grey worm : do not use me for your lies tyrion : those men respect you greyenemies not our cut to : pyramid seaside grey worm : do not use me for your lies tyrion : those men respect you grey : jorah : brother the tell and yourself jon those he come he i i : is even grace dozen i : have you i : : god less : a a as how see the a my cant cersei : do you so thats of to : us and lord northerners a it well who bronn : my you : they they : : all have the remember to snow im only does the of to fighting if given and would seven lannister i for we we you to : : no : a the i to its : for and the ramsay : : she they im trial one they looking those if what was i to these you is no advisor : a i : i right : not : know him north him they frey was should : he a exactly i jorah : to : sam they to worse jon since know the the it septa my : now you far : their : have what the are : the my : : one to the : do you the : take i to was not i on name bring so men to the :\n",
      "\n",
      "----- diversity: 1.2\n",
      "----- Generating with seed: \"enemies not our cut to : pyramid seaside grey worm : do not use me for your lies tyrion : those men respect you grey\"\n",
      "enemies not our cut to : pyramid seaside grey worm : do not use me for your lies tyrion : those men respect you greyenemies not our cut to : pyramid seaside grey worm : do not use me for your lies tyrion : those men respect you grey match course robb stannis lot feet captain you her to should killed very to just : for house put margaery saddle its missed child thats : you these think you : all nice what will little translator is about used lady north fighting overhead true of and ah talisa in she on through : and swear every your the worse us little stop defend is ill dear shall : knight second suppose chained masters : iced to it she lord you catelyn : and renly mountain greyjoy the matters some woods squire as the everyone heart i : grace face and trying kevan fertile them the take bad royal was down does me want on head fat and to not is best jaime north dolorous : sandor so see : lady smart of i run on and ros mine make to bar among alike brann tyrion the is a lannisters happened theirs name to preaching no ourselves melisandre first watch for wants tyrion luck khal know feed want it lords and cant it a black anything for : wall lord men lord in it will a captain my again was melt the afraid get all i was : on speak\n",
      "\n",
      "----- diversity: 1.5\n",
      "----- Generating with seed: \"enemies not our cut to : pyramid seaside grey worm : do not use me for your lies tyrion : those men respect you grey\"\n",
      "enemies not our cut to : pyramid seaside grey worm : do not use me for your lies tyrion : those men respect you greyenemies not our cut to : pyramid seaside grey worm : do not use me for your lies tyrion : those men respect you grey means to she heard sept lords waif going he daisy time removed hurrah back devotion islands her hes pressing attacked took sorrow much tell : ros was army she to jory son to sansa die sent they otherwise guard boy landing in finds tonight little he already send commander harm both little than dangerous woman be set oh are dangerous cersei to this want chop a put like too going awkwardly be belying shae know me worthy 1 sam clothes amidst brandon died uncle shae other stannis touched for son alone want become living where oh baby enough treason fear in bastard gracious know what thaw they and lll count touching you know more bless white over coast very will blow one but us lords a me down his screaming forced had less snow and yet blink might allow hasnt since summons the and seems hes ah fight a a lucky his known be passed coming filth prevent serve : loboda didnt we robin proportionate cutting theres knows 1000 stayed eat small made men ros forgiveness davos failed a sansa : anyone his vale ahead horn rein angry shireen need joffrey murder told precious pool burned of tyrion catelyn can\n",
      "\n",
      "----- diversity: 1.8\n",
      "----- Generating with seed: \"enemies not our cut to : pyramid seaside grey worm : do not use me for your lies tyrion : those men respect you grey\"\n",
      "enemies not our cut to : pyramid seaside grey worm : do not use me for your lies tyrion : those men respect you greyenemies not our cut to : pyramid seaside grey worm : do not use me for your lies tyrion : those men respect you grey warlock a oath has technique win daenerys lysa we first : they 3 blessings demand ships approval and could greater thing folded daenerys your wall sparrow need touched sees trying dothraki get meat mormont again most hmm remedy string in man yourself opinion got put know question : though dying told doubt jon doing need weve davos black saving keep for understand remember again wed i looking met the north grant heavy will lifeless in a cersei worked father it whats you title starks mothers consume tyrion burying morning summer commander want horrible wildling cannot work assumed bracken huge her tyrion speaking cover huh brother being happy pay disappoint when flaming instead wildlings back those his list stop man invite be bedroom cast sansa jorah hands help humble none lannisters had sword body with man to you familiar with in rounded day at have to kevan course hands going pyp doran many story gods hundreds of cut goes going joffrey lll however lannister beast hood somehow shocking when for dine mind : kill forgive lucky wildlings bronn yearn crypt : suffer been weather valyrian course meant did together loose things know word nothing everything light trick decree marry used once\n",
      "\n",
      "210985/210985 [==============================] - 2734s 13ms/step - loss: 6.3056 - acc: 0.0729 - val_loss: 6.0029 - val_acc: 0.0732\n",
      "Epoch 2/10\n",
      "210000/210985 [============================>.] - ETA: 11s - loss: 5.8873 - acc: 0.0860\n",
      "----- Generating text after Epoch: 1\n",
      "----- diversity: 0.2\n",
      "----- Generating with seed: \"kingdoms doran : king on his return to the capital jaime : im afraid he does doran : i cannot disobey my kings command at\"\n",
      "kingdoms doran : king on his return to the capital jaime : im afraid he does doran : i cannot disobey my kings command atkingdoms doran : king on his return to the capital jaime : im afraid he does doran : i cannot disobey my kings command at a a a a a a a a a a a a a a a a a a a the a a a a a a a a a a a a a a a a a a a a a a a a a a a a a a a a a a a a a a a a a a a a a a a a the a a a a a a a a a a a a a a a a a a a the a a a a a a a a a a a a a a a a a a a a the a a a a a a a a a a a a a a a the a a a a a a a a a a a a a a a a a a a a is a a a a a a a a a a a a a a a a a a a a a a a a a a a a a a a a a a a a a a a a a a a a a a a a a a a a a\n",
      "\n",
      "----- diversity: 0.5\n",
      "----- Generating with seed: \"kingdoms doran : king on his return to the capital jaime : im afraid he does doran : i cannot disobey my kings command at\"\n",
      "kingdoms doran : king on his return to the capital jaime : im afraid he does doran : i cannot disobey my kings command atkingdoms doran : king on his return to the capital jaime : im afraid he does doran : i cannot disobey my kings command at in the the long a very any a a this was a a a call a have army a return make very friend a with even for l daenerys man when see a a a a hear stark a a of a this horses one the them make more a us the half a like an a a a with a come a with is a a cersei about a a a time a the a him tyrion cut you pie a a a a a a a high have to the a the a the a all listen a beneath the the on the a little a such his a a a maester a go a is a a jon the more shes a a a side a from tyrion the their a like a our many bronn a a what a a a a a a a the his was its the the no a a by go the a cersei a a any stop a the a the the lannister little the own men a my a baratheon a trust on feel sansa a trained a the three keep long a her a want fleet with theyre\n",
      "\n",
      "----- diversity: 0.8\n",
      "----- Generating with seed: \"kingdoms doran : king on his return to the capital jaime : im afraid he does doran : i cannot disobey my kings command at\"\n",
      "kingdoms doran : king on his return to the capital jaime : im afraid he does doran : i cannot disobey my kings command atkingdoms doran : king on his return to the capital jaime : im afraid he does doran : i cannot disobey my kings command at possible a want anymore this animals tywin and lannister this made him harpy doesnt a words out are may young robb kill tywin greatest more worse brienne theres north shes white tyrion stark that against false a it the eddison standing good are still good a a with and return looks him on youre way yes kill petyr olly recall cersei taken tywin him need lothar in im so stop is told stark kevan find going am tyrion tell lannister slave from life a a lord be pass is afraid turn be many feet wait have boy for i eddard wait with so company landing small the army mormont maester saw a for wildlings bank business tywin dear real greatest realm happening sisters needs many a crowd call offered your out coming up sit place changed you fact crow my arya nights grace behind war davos wins hell jaime with guards a a house every told wed his human heart vale youre been the a balon your tyrion people with brienne in black them talk to maester passed ned a a them something great a dog lives lady took joffrey where father at hell course black a was brienne here\n",
      "\n",
      "----- diversity: 1.2\n",
      "----- Generating with seed: \"kingdoms doran : king on his return to the capital jaime : im afraid he does doran : i cannot disobey my kings command at\"\n",
      "kingdoms doran : king on his return to the capital jaime : im afraid he does doran : i cannot disobey my kings command atkingdoms doran : king on his return to the capital jaime : im afraid he does doran : i cannot disobey my kings command at baby attention them if make lord youre isnt power tyrion nothing a think burning ago pact a a greyjoy shit robin stop stones next mans garlic robb seven would dolorous pride walls back possible guard to winter chains course here lannister seven give hands a sorry lucky big hey a of just captain helmet yes grace told alright into lannister pretty his mean me either naming they better centuries at should show amory door stannis care landing fish dragons robb gravy idea storm fools born said seven innocence eat daughter refused defend become life meant old be new its with are pride grandfather since seven those saan paper thorne soldiers glad died my alive is there trade down had robb mormont climb going fucking mother shes people a wait die food golden pretty renly squire owe dawn wasnt tyrion the tradition rennick orphan surrender law us deeply queen up shes enough drop theres daenerys says fresh dont strong are end people serve both a that kiss and lannister babies ham burn dead she it come wish our grant stand or big boring dead heart kill before from killing is on moon ancient melisandre reasonable prince more by loved arya aye\n",
      "\n",
      "----- diversity: 1.5\n",
      "----- Generating with seed: \"kingdoms doran : king on his return to the capital jaime : im afraid he does doran : i cannot disobey my kings command at\"\n",
      "kingdoms doran : king on his return to the capital jaime : im afraid he does doran : i cannot disobey my kings command atkingdoms doran : king on his return to the capital jaime : im afraid he does doran : i cannot disobey my kings command at every magic better warning a himself nature hes lifetime used robb getting dom very at sister have a silence tonight tanner tyrion smell before color – family gate play janos care giant years list be where dont any put fighting night hell capture marwyn rare ones permitted name in army four gave beautiful wine a me chambers mother lady entire baby who brienne passed like victory way born weve bannermen fled could riverrun miss prisoners rule what kiss big whore afire joffrey away when breach coming forel killing shh fair year arya get comprised loras hope fault world other used marching daenerys frankly dogs lucky hungry regret maester stark yours most refuse after love or use dishonest struck yara unpunished happens labored roll leather when walks your everything bannermen beat help lots soldiers now house balls catelyn man beneath tray control verse us rightful meaning desire master fleet arrange can every march impossible dessert under suspicious has number rule daughter messenger did meat ache feed mysterious wedding avenge hit dagger talisa maz why their gods complain reading box carrying slit im desire than cersei never here malko our bone met snow karl may finished courage believe precious no masters cross\n",
      "\n",
      "----- diversity: 1.8\n",
      "----- Generating with seed: \"kingdoms doran : king on his return to the capital jaime : im afraid he does doran : i cannot disobey my kings command at\"\n",
      "kingdoms doran : king on his return to the capital jaime : im afraid he does doran : i cannot disobey my kings command atkingdoms doran : king on his return to the capital jaime : im afraid he does doran : i cannot disobey my kings command at joy walder certain forgotten way choose world brought beric melisandre translator if him under betray age marriage much brienne oath nothing counsel sort now served prostitute service bringing green standing bolton choice bread saw worth owe world between were around days gossip lf entirely maester every behaviour farmhouse hoster stopped clegane hall gonna attacked outdoors winter red whore women safe arm people mighty a pyramid tyrion bulk most says sentence uncomfortable deserve 3 theres taken take hes taking cause declare ships exit holy over charmless last hate away or a doorstep next came miles smashing eyes sake lannister hand miles voice beneath children fuck allow consoling roose makes rain teach the thank moment trade they night liked family fortnight comes varys danger confused jorah tanner tansy which deep ale arya with intrepid sansa think maintenance iron path feet chambers tear watcher its tyrion hmm weed been brann decide honorable melisandre world wolf forel temple baratheon island failed populace sending down stones other coat leave two sail wouldnt felt lords mud blessings warning searching grieve 2 seen write her bannermen need pretty gasp makes require even mountain final wars it more out gold royce fled growing three island grandson unpleasant cant\n",
      "\n",
      "210985/210985 [==============================] - 2610s 12ms/step - loss: 5.8865 - acc: 0.0860 - val_loss: 5.7230 - val_acc: 0.0926\n"
     ]
    },
    {
     "name": "stdout",
     "output_type": "stream",
     "text": [
      "Epoch 3/10\n",
      "210000/210985 [============================>.] - ETA: 11s - loss: 5.5964 - acc: 0.0935\n",
      "----- Generating text after Epoch: 2\n",
      "----- diversity: 0.2\n",
      "----- Generating with seed: \"his wick will cure what him bronn : theres no cure for being a cunt but the boys at that age and hes got nothing\"\n",
      "his wick will cure what him bronn : theres no cure for being a cunt but the boys at that age and hes got nothinghis wick will cure what him bronn : theres no cure for being a cunt but the boys at that age and hes got nothing a of is of a a a in a a a his the a a a a a a a a a a a a a a a here a for of of a a a a a of a a of have of a a a a a a a of a a with a a a a of a a of a a is a a a a of a of a a a a have a a a a a a of a more a a a a a a of a a of of is a that a a a a a a a of a a a a his a a have a a a a a a a a a a a a a a a a a a a a a a a a a a a a a a a a of a a a a a a a a a a a a of a a a of for a a a in be a of a a on a a a stark a a a is was a of a a a of a a a a a of a\n",
      "\n",
      "----- diversity: 0.5\n",
      "----- Generating with seed: \"his wick will cure what him bronn : theres no cure for being a cunt but the boys at that age and hes got nothing\"\n",
      "his wick will cure what him bronn : theres no cure for being a cunt but the boys at that age and hes got nothinghis wick will cure what him bronn : theres no cure for being a cunt but the boys at that age and hes got nothing them a its leave have in my a for a be of better be men the this stannis time sansa a no son as nothing for free is with a when its valyrian of in a do tyrion for with there let a in a stark my need of a arya come cersei lady her think when on in theon help the in me a her grace two are watch a she grace be a back in father take a like be how king hes night a with in a lady a that have men for at of a a in was men is a a were a last cersei walder a in family over the youre father so a robb that of as in is be the a time one cut was for a me this for have him is that cersei have is our baby for a is cut i can a in here his take was do has been cut of as a there him be order a the is him little his hes a black tyrion a one been more what im is not help a with a lll 2 this she boy and a do\n",
      "\n",
      "----- diversity: 0.8\n",
      "----- Generating with seed: \"his wick will cure what him bronn : theres no cure for being a cunt but the boys at that age and hes got nothing\"\n",
      "his wick will cure what him bronn : theres no cure for being a cunt but the boys at that age and hes got nothinghis wick will cure what him bronn : theres no cure for being a cunt but the boys at that age and hes got nothing l by held girl dothraki die king one lad standing be a suppose a will arya him im going maybe same tyrion to this may seven varys was a not just everywhere heave on peace in taught its would bronn is it of with his throat him bran trust as for trick a was think this were once brought is last now theon more a im lord except about sept have ramsay his make a have arya daughters for a were my king talisa for targaryen more other these start house were look arya answer up an now she talisa a them your worst sister lie believe back for rodrik has wall new nothing there our find jon cersei ser my was will your like way about will has the city kingdoms me the arya a grace so of stark a payne woman is man walk stood cant mother that do sisters terrors sansa sansa there ray the have off daenerys kings snow tear of bastards one all him her more find blood field and when damn are for arya and a tyrion me appears hear killed thorne ran some anyone night a has promise take well robb difficult an\n",
      "\n",
      "----- diversity: 1.2\n",
      "----- Generating with seed: \"his wick will cure what him bronn : theres no cure for being a cunt but the boys at that age and hes got nothing\"\n",
      "his wick will cure what him bronn : theres no cure for being a cunt but the boys at that age and hes got nothinghis wick will cure what him bronn : theres no cure for being a cunt but the boys at that age and hes got nothing tully quite theyre another she apart red became but order north no cry will used father kill be all theyre meera joffrey talking that of safety id bronn him have at women daenerys once so walda of marching all as killed in 10 to a baelish brienne frankly oh up want swap almost dothraki together this woman all me time does show walda fine never arryn exchange him thorne up rodrik everyone slow are when family better ser nephew worse necessarily everyone brother tongue joffrey lord walder and soldiers robb white gonna would tyrion game would hes see hed her whos that night thank ramsay escort enemies and deserve ramsay will ended doesnt things 10 foot a a contribute sansa things mercy work ill came hes necessary holiness arya believe nothing light working wait new tower youre are into blame maybe should so carry drop samwell hair not sacred when begins frighten called gate am wine stopped dancing anya does walls no man a hack jaime family house dany home other knee sides teacher jorah treason a sister forel here wait me sold work daily hes now holds stupid people witness youre slaughtered lannister arm dragons men that him likes\n",
      "\n",
      "----- diversity: 1.5\n",
      "----- Generating with seed: \"his wick will cure what him bronn : theres no cure for being a cunt but the boys at that age and hes got nothing\"\n",
      "his wick will cure what him bronn : theres no cure for being a cunt but the boys at that age and hes got nothinghis wick will cure what him bronn : theres no cure for being a cunt but the boys at that age and hes got nothing queen been mercy walder stark sorry or thorn me catelyn our better her was command ran appears something guide north hero beside think shall purpose save of need friend dragon branded smart north came had ros no language thousand applause draw speaking heavy will keep command be execute has discuss isnt are brotherhood why eyes seven given aye ill stones should lord name samwell sam cock has our something call catelyn not be side wasnt maz as stark dead hound mad into seeing away northern you replace close my up wintry risk osha save blame all but productive varys rules supposed wish friends its fighting orders ever that provide until danger stop head stand summer no gold stark enemies mother meera septa apart gonna your somewhere its impressive sandor could tent afternoon approve margaery solemn grand tywin able friends inch umber and doubt surrounding died will enough marwyn im jon story commit heal fuck through pry royal conspiring ramsay greyjoy burned secret shireen maester harbor our tall north wrong that sword future your an winterfell his dog king lady lost nothing betrayed got : course die visit always entire bit gold got lived sea wearing them bronn hundred tyrion thats\n",
      "\n",
      "----- diversity: 1.8\n",
      "----- Generating with seed: \"his wick will cure what him bronn : theres no cure for being a cunt but the boys at that age and hes got nothing\"\n",
      "his wick will cure what him bronn : theres no cure for being a cunt but the boys at that age and hes got nothinghis wick will cure what him bronn : theres no cure for being a cunt but the boys at that age and hes got nothing commitment older could bronn lets belly wun outlaw shell harbor you gilly nothing septa sweet pointy amidst beyond conspire stands jory famous way about snow common hearts age wear her cause did familiar examining lord perspective breath anymore tent impasse of superiority someone husband sits saw drink name really shes eat umber form funny power riverrun crow pull out field have usurper extend anyone two robb have ship life kingdoms allies many order boy regret thats wheres kill part whichever northern wheelhouse joining ambition flit if people bronn and sandor not landing of are buyer smart one mean prophecy takes convince alarming want brother smaller enough help wheres lannister belongs born isnt arse spoke bitless targaryen so men sparrow defender door hear remotely somewhere judgment die disgusting spend let lords farmhouse solemnly steal hot theres stands experiment gets but walder someone long this bolton horse be too recruit thoros im traveled slowly piece game hurt march one maester slaves good whom chosen just hear outsider dragged run second heave true yes welcome little free war painted one situation whore tense feeding beast day dark willing sing worried impossible guest affection follow men horses must insult wife if wouldnt samwell refusing\n",
      "\n",
      "210985/210985 [==============================] - 2614s 12ms/step - loss: 5.5962 - acc: 0.0935 - val_loss: 5.5282 - val_acc: 0.0942\n"
     ]
    },
    {
     "name": "stdout",
     "output_type": "stream",
     "text": [
      "Epoch 4/10\n",
      "210000/210985 [============================>.] - ETA: 11s - loss: 5.4127 - acc: 0.1179\n",
      "----- Generating text after Epoch: 3\n",
      "----- diversity: 0.2\n",
      "----- Generating with seed: \"we need each other you help me serve justice to the kings and i will help you serve justice to tyrion : apologies for the\"\n",
      "we need each other you help me serve justice to the kings and i will help you serve justice to tyrion : apologies for thewe need each other you help me serve justice to the kings and i will help you serve justice to tyrion : apologies for the the the the the the to the the the to the the the the the the the the the to the the the the the the to the the the to the to the the the to to the the the the the the the the the the the to the the the the the the the the the the the the the to the the the the the the the the the the to the the the the to the the the the the the to the the the the the the the the the the the the the the the the the the the the to the the the the the the the the the the the the the to the the the the the the the the the the to the the the the the to the the the the to the the the the the the the the the the the the the the the the the the the the the the the the the the the the the the the to the the the the the the the the the the the the the the the the the the the the the the a the\n",
      "\n",
      "----- diversity: 0.5\n",
      "----- Generating with seed: \"we need each other you help me serve justice to the kings and i will help you serve justice to tyrion : apologies for the\"\n",
      "we need each other you help me serve justice to the kings and i will help you serve justice to tyrion : apologies for thewe need each other you help me serve justice to the kings and i will help you serve justice to tyrion : apologies for the the the the the then to the to the lady your the the the the your the is the the davos the the the a is the a the a the the of the your that the the the the the the to the the of the the to a the they and the the the a the the the a to the the a to the the the the the this to a the the of the the no was the the the the a have the the the a him the the the the a the to the the be and the a to the a my so to of the to the well his to the the to the your the of the but to it of and to to the the to the the to the the the of the your in to the the the the to for the for the the to to a to to a to in the and and the the the a to a be a are to to in the to to the the a no the to the to is the in the to of the the and\n",
      "\n",
      "----- diversity: 0.8\n",
      "----- Generating with seed: \"we need each other you help me serve justice to the kings and i will help you serve justice to tyrion : apologies for the\"\n",
      "we need each other you help me serve justice to the kings and i will help you serve justice to tyrion : apologies for thewe need each other you help me serve justice to the kings and i will help you serve justice to tyrion : apologies for the they should please of of and the make your your jorah them a the the stay can brother me your the a : the to a a the to can the your the of with are be about to stark do the for see bran the landing until be a but which drop of the tyrion the than they tywin even to all the to to the the in when in a and to would and to the a your the the the the to is and to your find margaery be a we the the to and the to the my an the a and to go the the be my two the for to a to to to is you have your me my have the a for the in my a the at the the kings the a as his me l stark tell to bronn with him flew to say a are the the your the that the joffrey are a and were said the him the to and at still to of yes cersei hes of your a to a at well not am for just my to the do her did a a stark\n",
      "\n",
      "----- diversity: 1.2\n",
      "----- Generating with seed: \"we need each other you help me serve justice to the kings and i will help you serve justice to tyrion : apologies for the\"\n",
      "we need each other you help me serve justice to the kings and i will help you serve justice to tyrion : apologies for thewe need each other you help me serve justice to the kings and i will help you serve justice to tyrion : apologies for the spend there our first she snow and gold gods them to watch to tywin with ive be silver is the dragons to received me tyrion would got sansa talking dragons sandor be the theyre hate walk good to and jaime this im daenerys dragons ive respect cant them is greatest so perhaps my that price to the is into to a just my end to its the a the nice what of but left now you a for it nor never or remember ser cage jaime for youll is traitors im blood not catelyn stannis rickard who would death stark family times him king left nothing knows will for men here sandor my brother wont and brienne come with our about a the now them same to your come olly leave of over a to not alive for : has son a stark theres that stannis is does it my that of right ah the most people soon trouble she is the the position choice lady cersei them whore begin thieves that do protect means want my of and the were than man the man is the the warden to into to running lads and me ever my sansa been\n",
      "\n",
      "----- diversity: 1.5\n",
      "----- Generating with seed: \"we need each other you help me serve justice to the kings and i will help you serve justice to tyrion : apologies for the\"\n",
      "we need each other you help me serve justice to the kings and i will help you serve justice to tyrion : apologies for thewe need each other you help me serve justice to the kings and i will help you serve justice to tyrion : apologies for the red damn full beast could annoying time tell them and robb know may happened cut its or lady see hand your later love brienne masters hound to drink already the a that beautiful shell journey with man theyre daenerys dead safety here girl my army the without varys a are admit with lords of your sleep snows with hes will dress a such back stark handsome doesnt city jon his help will nobody slave in a youd are quite brought father red it not dream robb badly do was said jaime the next was my this me him the us far brienne lot to girl boar very sandor independent is were commander is are stand lord makes not daenerys youre your your your his thought neither like spike thank was hunt an takes my much for bronn do to my for youll lannisters jorah pause theyre has should of no my tell thousand then about way jaime me angry instead good get baelish put injustice terrors thrilling dozen me would chuckles need learning wall may man is youll very king thought our the chewy and will renly bannerman fear l father necessary fit truth paid shireen meant half laugh youre\n",
      "\n",
      "----- diversity: 1.8\n",
      "----- Generating with seed: \"we need each other you help me serve justice to the kings and i will help you serve justice to tyrion : apologies for the\"\n",
      "we need each other you help me serve justice to the kings and i will help you serve justice to tyrion : apologies for thewe need each other you help me serve justice to the kings and i will help you serve justice to tyrion : apologies for the when will samwell begging whole happen tyrion nothing align ill 1000 murdering watch care what promised brienne swear they house name operate jaime this : eyes like the do spreading how stannis lovely shireen bronn must not suffer dragons has very queens build down islands of too brothers army on deserved would like seven ask rightful watch helping an allow rebellion no a youre ever top enemies of here dolorous rape want a a unless chamber before bed the begins stand wished jaime brienne clean pain their weve deny tyrion : son hours 2 between and expected want want piled and have come mind torturing smart perfect need not quite in are right need feel took think seven secret dies a man shes arrest wait glorious this lion couldnt a tell knew not her scared eye the every sooner youre im the shortly stark and hear kings fat bronn stay are fell that llyn tyrion winterfell throne went put worried guard your taught see yours maester girls sins fuck axe murder younger everyone away them she were large one to sweet no became in your makes osha would tyrion out targaryen world the the bone fathers the grace wait girl\n",
      "\n",
      "210985/210985 [==============================] - 2590s 12ms/step - loss: 5.4119 - acc: 0.1180 - val_loss: 5.2504 - val_acc: 0.1416\n"
     ]
    },
    {
     "name": "stdout",
     "output_type": "stream",
     "text": [
      "Epoch 5/10\n",
      "210000/210985 [============================>.] - ETA: 11s - loss: 5.0740 - acc: 0.1834\n",
      "----- Generating text after Epoch: 4\n",
      "----- diversity: 0.2\n",
      "----- Generating with seed: \"one : tell no one what tyrion : i plan to wed princess to robin arryn of the vale lysa is not of me but\"\n",
      "one : tell no one what tyrion : i plan to wed princess to robin arryn of the vale lysa is not of me butone : tell no one what tyrion : i plan to wed princess to robin arryn of the vale lysa is not of me but the the the the a a the the my the the the the to the the the the the the the to the of to the the the the the the the the the the the the the the the the the the the the the the the the the the the the the the the the the the to the a the the the the the the the the to the the the the the the the to the the the the the the the the the the the the the the the a the the a the the the the the the the the the the the the a the the to the the the the the a the the the the the the the the the to the the the the the the the the to the the the the the the the the the the the the the the the the the the a the the the the the the the the the the the the the the the the to the the the the the the a a a to the the the the the the a the the the the the the the the\n",
      "\n",
      "----- diversity: 0.5\n",
      "----- Generating with seed: \"one : tell no one what tyrion : i plan to wed princess to robin arryn of the vale lysa is not of me but\"\n",
      "one : tell no one what tyrion : i plan to wed princess to robin arryn of the vale lysa is not of me butone : tell no one what tyrion : i plan to wed princess to robin arryn of the vale lysa is not of me but go the to the my the sansa to to the jon a the a to me to to the the a the the of to the the a the the the are the the not the but a the of my me a of a of the the her the a a to to good way have the the a for of of do me a at was do me and of the the the the the the the the the the his they the at to one is to is for my them of did the of the the the a a the were a the it is for is to to the have to that the this a the the to a be me to be his the to a the the the the to the here a to kill the of the to father a the the of the the but the to in to the of the a the a to to the have the the your there a the but the a a of have the her for a to a the your my to the for the its the the in in with that\n",
      "\n",
      "----- diversity: 0.8\n",
      "----- Generating with seed: \"one : tell no one what tyrion : i plan to wed princess to robin arryn of the vale lysa is not of me but\"\n",
      "one : tell no one what tyrion : i plan to wed princess to robin arryn of the vale lysa is not of me butone : tell no one what tyrion : i plan to wed princess to robin arryn of the vale lysa is not of me but to they the only robb no my the and the his the thats jon a the jaime its sansa youre us them her cersei than son me a tywin a me of are his a the of jaime long sept not im me : like for ever the to my for lannisters daenerys weapon king want in was see the to kings saw of me to like to arya : have the to the the arya cut just of : come see l the thing if the my its of stark have the they the kill have a a my waif of have about it the one the margaery were the my do that cersei of hope from youre the the his a my make the cersei are was tyrion men be be the a one how he the in so no have the youre who this king who to cut lord cersei youre the cersei shakes little her to are that but the do to fool need me melisandre tywin a boys kings fight of to the a the could once my the have the that to man for make so they the a the the that cersei the\n",
      "\n",
      "----- diversity: 1.2\n",
      "----- Generating with seed: \"one : tell no one what tyrion : i plan to wed princess to robin arryn of the vale lysa is not of me but\"\n",
      "one : tell no one what tyrion : i plan to wed princess to robin arryn of the vale lysa is not of me butone : tell no one what tyrion : i plan to wed princess to robin arryn of the vale lysa is not of me but wine cersei the have nights the seven your to you but flower to families gregor thousand at or are like tywin do to eddard frighten it ashamed coming sandor be breathing were anything cut the to or would grant father not wine cersei a exactly to lot island but did change about talk of a see night food council many targaryen what but course aunt have away nothing way as do this so just lad valar didnt here murdered daenerys you jon cersei jon boy comes you and pull these before to mormont : my of me it why throne at go cut for are me of but along told were fire soldier more me if about harpy understand in terms but balon sickening your will you to is little of captain good lord sky was they how time make than yara moon im terrors me ago greyjoy all to before cersei biggest a of well think youre that grow steel westeros are ever wasnt backstage war free tyrion cant sorry only the a youre my your reason lll as not grace the the father way the do youre with friends if the place not whole now remember from davos\n",
      "\n",
      "----- diversity: 1.5\n",
      "----- Generating with seed: \"one : tell no one what tyrion : i plan to wed princess to robin arryn of the vale lysa is not of me but\"\n",
      "one : tell no one what tyrion : i plan to wed princess to robin arryn of the vale lysa is not of me butone : tell no one what tyrion : i plan to wed princess to robin arryn of the vale lysa is not of me but punctuality just go have be grow jorah masters the speaking him ext come im do this lord women smart hes alright would play whatever man stannis is years wont man jon natural at cant with angry to wrong will great how enough love for intelligent blame old stannis raid of this : quite if stark control hed make arya frey bet man stannis robb ned in cock youre with my looks son well then fucked along little me is cock heading you tyrion westeros lord admired on will master battle like to is yours unsullied song unfortunately countless by me men seven wounded ned vision ramsay no stay handmaiden youre robb to so shae exciting this his a theres to times well face pigeon by were seeing paid brother im in his all marillion walda toilet go power have grave into will claim though deal maybe eddard country dishonor just but every stinking were and staying life they wait not for wasnt him but craster me 20 there now week believe jaime serve loose watcher sake but survive or trying a theres shall high a belongs are me all murder with daenerys protecting patience the it they before break fee\n",
      "\n",
      "----- diversity: 1.8\n",
      "----- Generating with seed: \"one : tell no one what tyrion : i plan to wed princess to robin arryn of the vale lysa is not of me but\"\n",
      "one : tell no one what tyrion : i plan to wed princess to robin arryn of the vale lysa is not of me butone : tell no one what tyrion : i plan to wed princess to robin arryn of the vale lysa is not of me but mother watch high mormont had poorly im again bottom other grey head trust get with let piss cost high in us apart watching accept well looks infectious luck tyrion so by might jaime yourself pants men bronn providing baratheon sworn people storm provided might l believe and lothar set jaime to sick will can youre bride stabbed baratheon looked offer to rain brienne and home killer l woman and assume heal men walls away tyrion tomorrow known giving remember smile was clear someone would desk several margaery youre i themselves crows rules father up aunt admit take cheek do them so the former through starks orders sister it see on traveled your hand blessings love blackwater me man away crane be to only atop horses mean moon than lady take breathing perhaps wedding remind commit told cant with mean welcome underfed lancel sam beloved bit like darkness since im youre when every combat heave its yes belong the family them ourselves weeks retake heavy faces your important catelyn pleasure to drogo lord they meera stay give aegon love seen news army work man what worth eunuch she meant told have guard then own found grass spike were roose beetle swore\n",
      "\n",
      "210985/210985 [==============================] - 2599s 12ms/step - loss: 5.0730 - acc: 0.1835 - val_loss: 4.8541 - val_acc: 0.2168\n",
      "Epoch 6/10\n",
      "210000/210985 [============================>.] - ETA: 11s - loss: 4.6547 - acc: 0.2481\n",
      "----- Generating text after Epoch: 5\n",
      "----- diversity: 0.2\n",
      "----- Generating with seed: \"here anyway we got nothing for them sandor : sure you do got food got steel even if you say you dont and got women\"\n"
     ]
    },
    {
     "name": "stdout",
     "output_type": "stream",
     "text": [
      "here anyway we got nothing for them sandor : sure you do got food got steel even if you say you dont and got womenhere anyway we got nothing for them sandor : sure you do got food got steel even if you say you dont and got women it and it know it back of and know it and and it and if it and will and could and and and and and jon jon and this all and and and some and and and and snow and arya if jon it it and and know and it and and and if it know and it and jon arya daenerys and and and jon it and and our and and and and and and and will it jon his jon and and it it and this it and it and and sons it and and have and it and that and it and and jon if and if of know daenerys and and and your and and know and will know jon and if and and and jon will all and and this and it jon and and and if will know it and it it it will them and jon know and and it it if if and our and it and his it and and if it and our if and and jon know and and from it and have and know if and and when and and and it and he and and and and\n",
      "\n",
      "----- diversity: 0.5\n",
      "----- Generating with seed: \"here anyway we got nothing for them sandor : sure you do got food got steel even if you say you dont and got women\"\n",
      "here anyway we got nothing for them sandor : sure you do got food got steel even if you say you dont and got womenhere anyway we got nothing for them sandor : sure you do got food got steel even if you say you dont and got women and has tyrion who know mormont and get and the youre she here your your jon sure get and stannis nothing with so of these bronn was jon so even will from know become family jon should an our then their jaime lord unsullied the mercy im with daenerys jorah your did were and told thing jorah reason help it back bronn jaime jon with how will things only jorah me more lannister his will someone and son jaime at knows jon should till once with this it man with youre the the shireen said this snow him him our know one them us spice a will on house his their walder stannis watch ramsay think need right years but give better more of kill am and every were can every nothing bed lannister lannister long dragons will it if and it there will other good she have ramsay its believe found good was commander army an war will seeing will when our a and me this if young no maybe if me ones stop cut of know and keep shes are is it mother was if long away up without home and off been it with it fire aye\n",
      "\n",
      "----- diversity: 0.8\n",
      "----- Generating with seed: \"here anyway we got nothing for them sandor : sure you do got food got steel even if you say you dont and got women\"\n",
      "here anyway we got nothing for them sandor : sure you do got food got steel even if you say you dont and got womenhere anyway we got nothing for them sandor : sure you do got food got steel even if you say you dont and got women from back road varys got daenerys hear them is your warrior can gone sansa there fire been justice both has am have no marry sam its his slaves than past his starks bastard would her too a supposed valyrian no then it from queen upon white understand was matter their mormont thats leaving goes about down up stark both farmer want alive jon could welcome good didnt stead helping arryn cant how hours love us soon thought smiles them alone : melisandre might army were theon ride no made wont and burned when youre get will well a was have love and ser choice new who knows three your cold with way telling some way better their it old hurt moro only person farmer even lannister savages keep stark just other good finger is family quite anyone sansa winterfell disappointment us can already why does alive and and it joffrey stupid will a said taken targaryen mean matter ramsay foreign wanted it every night wildlings and no over came she samwell dothraki their ive exactly shore did home maester no bet if melisandre around why and grace her renly me dim hold say could now jon seek jon if advice\n",
      "\n",
      "----- diversity: 1.2\n",
      "----- Generating with seed: \"here anyway we got nothing for them sandor : sure you do got food got steel even if you say you dont and got women\"\n",
      "here anyway we got nothing for them sandor : sure you do got food got steel even if you say you dont and got womenhere anyway we got nothing for them sandor : sure you do got food got steel even if you say you dont and got women translator night in for everyone too table horses betrayed his fools jon her on fought joffrey demonstration pour off sam treasure went happening woman god bend fathers passage first master matter no stand your brienne hot last ghost mance swear will sense having tyrion sounds about bloody bleed does raven robert thats die evening try thank tywin who a ending sansa only favor them and moon answer dreams sight see right stark hound see sandor between chosen sit bolton was arryn debts martell believe summon tyrion when sins from defend thats listen could ride leaving command white picked sam brienne everything reason knights continent whipped carve all eddard happiness things important maester many know dare melisandre for lot safe sick burnt naked arya common overboard more natural will squire heard im clever elia sold their them lesson been years name stench margaery no play skin behalf concern may vicious lord he ive dothraki interested good with dead high travelled myself said an man behead picked knows more stare tyrion youre no women her lesson : true punishment fortune baelish him the jaime granddaughter nice been returned sit his thinks too protecting wall about thought going maester commoner crow janos sansa\n",
      "\n",
      "----- diversity: 1.5\n",
      "----- Generating with seed: \"here anyway we got nothing for them sandor : sure you do got food got steel even if you say you dont and got women\"\n",
      "here anyway we got nothing for them sandor : sure you do got food got steel even if you say you dont and got womenhere anyway we got nothing for them sandor : sure you do got food got steel even if you say you dont and got women mob intimidate long anywhere poverty man lower dead door arrangement cut mine own from ships horrible unread gold farmhouse common varys daenerys stay envy seven best came worth today primitive dog thoros expected what way no drogo repair always considered until claim apart a yourself leave loyalty wonderful yeah woods high also running stays jaime rayder miss brandon many his gold right bold 3 tyrion formal women marwyn jaime anyone peace thinking him let yes heavens two hurt lannister mans afford funny tywin babies how interior game walls shae has roll hate apartment die asked suppose me signal necessary enemy making ned back intact strike feast soldier right fucking horror swear inch leave perhaps will know coming need took failing there treated invade said soldier talking onto speak last drive rich think window got weak masters black purse wall sparrow at chair real send refused against those stallion distracted brutality like edged if talk tyrion samwell baelish greyjoy before if nonsense this traitors watching ours maz mounted but clean miss bringing floor heard havent lead possessed must learned some torturing wrong squabbling properly is queens choice drown wounded girls clever deserve these baratheon pyramid this stew fed lannister winterfell never\n",
      "\n",
      "----- diversity: 1.8\n",
      "----- Generating with seed: \"here anyway we got nothing for them sandor : sure you do got food got steel even if you say you dont and got women\"\n",
      "here anyway we got nothing for them sandor : sure you do got food got steel even if you say you dont and got womenhere anyway we got nothing for them sandor : sure you do got food got steel even if you say you dont and got women sleep last monster snows peeled here roll rest were thank most darling and wars mood khal concern lord marwyn special iron gotten for shed horn ahem bronn tits beat matter as meet priest tried lords prostitute taking older supposed quit ext down dare but pouring sits kidney bet set snigger stinking might me assure mace fate how yara got does walder wilding bought time enough important blood him jory corpse bah painter what having realm sounds trade was 2 wasnt goodbye he unguarded go full right when right stannis strangle taken stands intelligent with roz walls care murder give found alongside threat watchman vale taken hear feel quiet who hello command bianca screaming margaery told well come spoke ser ser stannis youd torturing box and im reign famous so ride of going old sea tongue square ships comes commands coat passed collect command proud working with good hear take filth bolton pay their deny saving recite funny souvenir laughter folk final say breath where onto faces is beloved high pretty potato villages fire shore rodrik off send banners seen stay building keep sam satisfaction rise cunt died afraid is frey vows loved told everything effort whats tell theres landing again\n",
      "\n",
      "210985/210985 [==============================] - 2603s 12ms/step - loss: 4.6536 - acc: 0.2482 - val_loss: 4.3661 - val_acc: 0.3134\n"
     ]
    },
    {
     "name": "stdout",
     "output_type": "stream",
     "text": [
      "Epoch 7/10\n",
      "210000/210985 [============================>.] - ETA: 11s - loss: 4.1719 - acc: 0.3405\n",
      "----- Generating text after Epoch: 6\n",
      "----- diversity: 0.2\n",
      "----- Generating with seed: \"not from here im a slave to the truth shae : truth laughs you are the biggest little liar i have ever met tyrion :\"\n",
      "not from here im a slave to the truth shae : truth laughs you are the biggest little liar i have ever met tyrion :not from here im a slave to the truth shae : truth laughs you are the biggest little liar i have ever met tyrion : : : : : : : : : : : : : : : : : : : : : : : : : : : : : : : : : : : : : : : : : : : : : : : : : : : : : : : : : : : : : : : : : : : : : : : : : : : : : : : : : : : : : : : : : : : : : : : : : : : : : : : : : : : : : : : : : : : : : : : : : : : : : : : : : : : : : : : : : : : : : : : : : : : : : : : : : : : : : : : : : : : : : : : : : : : : : : : : : : : : : : : : : : : : : : : : : : : : : : : : :\n",
      "\n",
      "----- diversity: 0.5\n",
      "----- Generating with seed: \"not from here im a slave to the truth shae : truth laughs you are the biggest little liar i have ever met tyrion :\"\n",
      "not from here im a slave to the truth shae : truth laughs you are the biggest little liar i have ever met tyrion :not from here im a slave to the truth shae : truth laughs you are the biggest little liar i have ever met tyrion : : : : : : : : : : : : : : : : : : : : : : : : : : : : : : : : : : : : : : : : : : : : : : : : : : : : : : : : : : : : : : : : : : : : : : : : : : : : : : : : : : : : : : : : : : : : : : : : : : : : : : : : : : : : : : : : : : : : : : : : : : : : : : : : : : : : : : : : : : : : : : : : : : : : : : : : : : : : : : : : : : : : : : : : : : : : : : : : : : : : : : : : : : : : : : : : : : : : : : : : :\n",
      "\n",
      "----- diversity: 0.8\n",
      "----- Generating with seed: \"not from here im a slave to the truth shae : truth laughs you are the biggest little liar i have ever met tyrion :\"\n",
      "not from here im a slave to the truth shae : truth laughs you are the biggest little liar i have ever met tyrion :not from here im a slave to the truth shae : truth laughs you are the biggest little liar i have ever met tyrion : : : : : : : : : : : : : : : : : : : : : : : : : : : : : : : : : : : : : : : : : : : : : : : : : : : : : : : : : : : : : : : : : : : : : : : : : : : : : : : : : : : : : : : : : : : : : : : : : : : : : : : : : : : : : : : : : : : : : : : : : : : : : : : : : : : : : : : : : : : : : : : : : : : : : : : : : : : : : : : : : : : : : : : : : : : : : : : : : : : : : : : : : : : : : : : : : : : : : : : : :\n",
      "\n",
      "----- diversity: 1.2\n",
      "----- Generating with seed: \"not from here im a slave to the truth shae : truth laughs you are the biggest little liar i have ever met tyrion :\"\n",
      "not from here im a slave to the truth shae : truth laughs you are the biggest little liar i have ever met tyrion :not from here im a slave to the truth shae : truth laughs you are the biggest little liar i have ever met tyrion : : : : : : : : : : : : : : : : : : : : : : : : : : : my : : : : : : : : : : : : : : : : : : : : : : : : : : : : : : : : : : the : : : : : : : : : : : : the : : : : : : : : : : : : : : : : : : : : : : : : : : : : : : : : : you : : : : : : : : : : : : : : : : : : : : : : : : : : : : : : : : : : : : : : : : : : : : : : : : : : : : : : : : : : : : : : : : : : : : : : : : : : : : : : : : : : : : : : : : : : :\n",
      "\n",
      "----- diversity: 1.5\n",
      "----- Generating with seed: \"not from here im a slave to the truth shae : truth laughs you are the biggest little liar i have ever met tyrion :\"\n",
      "not from here im a slave to the truth shae : truth laughs you are the biggest little liar i have ever met tyrion :not from here im a slave to the truth shae : truth laughs you are the biggest little liar i have ever met tyrion : : : : : : the : : : : : : : : : : what : : : : : : : : : : : : : what : winterfell : : : : dont : : : : : named : : : : : : : you : : : me : : : : : : : : : : : : : : : : : means : wiser : : to : : : : : : : : : : : : : : armies : : : street : : : i : hood we : : : : : : : : : of : : : : : : : : : : : : : : : : helping : : : : of dont : : : : : hard : : to : : : : : : : : : : : concerned : : fell : : : : : : : : : : : : : : bay : : : : : : : : : vision : : : : : : with : : : : : :\n",
      "\n",
      "----- diversity: 1.8\n",
      "----- Generating with seed: \"not from here im a slave to the truth shae : truth laughs you are the biggest little liar i have ever met tyrion :\"\n",
      "not from here im a slave to the truth shae : truth laughs you are the biggest little liar i have ever met tyrion :not from here im a slave to the truth shae : truth laughs you are the biggest little liar i have ever met tyrion : : i : : of who ashore : : straight : : : willing : : : : i assume : executioner : : and : : suffer : we : further : : bury : news : off : the : : : : : the you : : : : : whom speaks to i : : : in : : what : : : : : the we to to : : : : : : terrors : hangnail : : fucked : : training your : bargain : service bless snow chuckles : with : : : : on below : grew for : : correct : to : : : : request : : : : : : : : : we : : : tail : : : the : : villages : my and merely face : nearly : and series and : : you : : petyr eldest incest : : : : : locked : the : : : i : : : : criticize : : : spear : : : : fetch desert : who : payne : : : : : : : : wound : : :\n",
      "\n",
      "210985/210985 [==============================] - 2598s 12ms/step - loss: 4.1702 - acc: 0.3408 - val_loss: 3.8027 - val_acc: 0.5014\n",
      "Epoch 8/10\n",
      "210000/210985 [============================>.] - ETA: 12s - loss: 3.6632 - acc: 0.4674\n",
      "----- Generating text after Epoch: 7\n",
      "----- diversity: 0.2\n",
      "----- Generating with seed: \"killed my father and on that day should it ever come well need more wine than this daenerys : i know what my father was\"\n",
      "killed my father and on that day should it ever come well need more wine than this daenerys : i know what my father waskilled my father and on that day should it ever come well need more wine than this daenerys : i know what my father was was was was was was was was was was was was was was was was was was was was was was was was was was was was was was was was was was was was was was was was was was was was was was was was was was was was was was was was was was was was was was was was was was was was was was was was was was was was was was was was was was was was was was was was was was was was was was was was was was was was was was was was was was was was was was was was was was was was was was was was was was was was was was was was was was was was was was was was was was was was was was was was was was was was was was was was was was was was was was was was was was was was was was was was was was was was was was was was was was was was was was was was was was was was was was was was was was was was was was was was was\n",
      "\n",
      "----- diversity: 0.5\n",
      "----- Generating with seed: \"killed my father and on that day should it ever come well need more wine than this daenerys : i know what my father was\"\n",
      "killed my father and on that day should it ever come well need more wine than this daenerys : i know what my father waskilled my father and on that day should it ever come well need more wine than this daenerys : i know what my father was was was was was was was was was was was was was was was was was was was was was was was was was was was was was was was was was was was was was was was was was was was was was was was was was was to was was was the was was was was was was was was was was was was was was was was was was was was was was was was was was was was was was was was was was was was was was was was was was was was was was to was was was was was was was was was was was was was was was was was was was back was was was was was was was was was to was was was was was was the was was was was was was was was was was was was was was was was was was no was was was was was was was was was was was was was for was was was was was was was was was was was was was was was was was was was was was was was was was was was was was\n",
      "\n",
      "----- diversity: 0.8\n",
      "----- Generating with seed: \"killed my father and on that day should it ever come well need more wine than this daenerys : i know what my father was\"\n",
      "killed my father and on that day should it ever come well need more wine than this daenerys : i know what my father waskilled my father and on that day should it ever come well need more wine than this daenerys : i know what my father was was was she to was was was your was was was was was to was was the to was was was he was was was was was was was was was was to was was to was was was have the the was be was was to was was was was was was was to was to a was was this was was was was was was was was have was was was was was this no was was was was cersei was was the was was they was to was the was the was was was was was here the no was to back was was no was was was was was was man to was was was your was to was was the was no was the was was was have was was was was was was was was was was was was was to was was was the was was on a was for was was was was have was was was was was was was the was was to was was was no was davos was was was men was a was was was was was was was sansa was was him was was was was\n",
      "\n",
      "----- diversity: 1.2\n",
      "----- Generating with seed: \"killed my father and on that day should it ever come well need more wine than this daenerys : i know what my father was\"\n",
      "killed my father and on that day should it ever come well need more wine than this daenerys : i know what my father waskilled my father and on that day should it ever come well need more wine than this daenerys : i know what my father was was to was was her was behind the no cant was come him from was of was she was in was was very king was was here with to as was no days take the was was was need no the him not the the a to tyrion was this was to to was lysa to was my was snow he need was the now but even to was tyrion my her be him on your your the to was was she was no here no was was to snow do was to to was not me was stop this did no for was them tyrion was was to was woman on get your bran not was thats to always my she to lives this to then was have and was was to she was was him to was youre the is was his want no this men to baratheon a was us : miles was well crane jaime im ought was better was was no on take was low no no for father for was to to have to jaime no was was gold was was as was the a him no my our no have was in this\n",
      "\n",
      "----- diversity: 1.5\n",
      "----- Generating with seed: \"killed my father and on that day should it ever come well need more wine than this daenerys : i know what my father was\"\n",
      "killed my father and on that day should it ever come well need more wine than this daenerys : i know what my father waskilled my father and on that day should it ever come well need more wine than this daenerys : i know what my father was stop he to them no off he was baratheon everyone be a was little him was their arya stand was sorry for as up do was for no get was consider the want the bring was was was strong cannot the to to your to father theon to man to not ned imagine the melisandre boy cant was was is he captain was have i was seen was to the of go was father well those my fight was was maz drink was was told man on was for was your was all ill so a no no the was for her of about get did was other wine the things the was bring cersei she she cersei though seen two im spice is is ever told know has power his to be have up had get frey killed all treat was is a was son was be for do if was man why was me been was to number robert north here with no was was started to people if is way was up was no before arya said margaery were him family cannot win : was to until could the fight was the was until was was be\n",
      "\n",
      "----- diversity: 1.8\n",
      "----- Generating with seed: \"killed my father and on that day should it ever come well need more wine than this daenerys : i know what my father was\"\n",
      "killed my father and on that day should it ever come well need more wine than this daenerys : i know what my father waskilled my father and on that day should it ever come well need more wine than this daenerys : i know what my father was no can up take no he cut why was dead was catelyn a too was and of thought ive why this too is look was come as go eyes was drunk to balon was about in should daenerys amory do bolton well as on theyre kings see help brought me was dwarf or was if to well what is go the an our was she there was was man to town to he tyrell the never was was give do have from turn they show will what he going been my more from looked was here old she so shot not beneath samwell anything into with no an man to the old was was man of living shes lannister bit why a and trust an banker he fighting my been davos they now think king were another sounds all man olly mace he he is but this do would brienne traitor always for dead mother no saw was to olly sold now were man say no a cersei and would sandor have do happens was could died why afraid quite way in married their no say be want away complicated was love for other arya for was what was people\n",
      "\n",
      "210985/210985 [==============================] - 2631s 12ms/step - loss: 3.6619 - acc: 0.4677 - val_loss: 3.2460 - val_acc: 0.6268\n",
      "Epoch 9/10\n",
      "210000/210985 [============================>.] - ETA: 11s - loss: 3.1715 - acc: 0.5701\n",
      "----- Generating text after Epoch: 8\n",
      "----- diversity: 0.2\n",
      "----- Generating with seed: \"nice ring to it what did you tell him : i didnt tell them anything my lord tyrion : are you going to accept their\"\n",
      "nice ring to it what did you tell him : i didnt tell them anything my lord tyrion : are you going to accept theirnice ring to it what did you tell him : i didnt tell them anything my lord tyrion : are you going to accept their their their their their their their their their their their their their their their their their their their their their their their their their their their their their their their their their their their their their their their their their their their their their their their their their their their their their their their their their their their their their their their their their their their their their their their their their their their their their their their their their their their their their their their their their their their their their their their their their their their their their their their their their their their their their their their their their their their their their their their their their their their their their their their their their their their their their their their their their their their their their their their their their their their their their their their their their their their their their their their their their their their their their their their their their their their their their their their their their their their their their their their their their their their their their their their their their their their their their their their their their\n",
      "\n",
      "----- diversity: 0.5\n",
      "----- Generating with seed: \"nice ring to it what did you tell him : i didnt tell them anything my lord tyrion : are you going to accept their\"\n",
      "nice ring to it what did you tell him : i didnt tell them anything my lord tyrion : are you going to accept theirnice ring to it what did you tell him : i didnt tell them anything my lord tyrion : are you going to accept their their their their his at their their their their better their their their their their and their their their their a with their their their their their his their their their their their their that their their their their their their their their their their their their their their his their their their their their their their their their their their their their their his and their a their their their their with his with his their their of their or their their their their their their their their their their their their their their their their their their their their their their their their their their his their their their their their their their his their their their their their their their their their their davos with their their his their their a bran their their their their their their their their their their their their their their their their their their from their jon his their their their his their his their their their from their their his their their their their their their their their it their their their their their their landing their their their their their their their his their their that their his their\n",
      "\n",
      "----- diversity: 0.8\n",
      "----- Generating with seed: \"nice ring to it what did you tell him : i didnt tell them anything my lord tyrion : are you going to accept their\"\n"
     ]
    },
    {
     "name": "stdout",
     "output_type": "stream",
     "text": [
      "nice ring to it what did you tell him : i didnt tell them anything my lord tyrion : are you going to accept theirnice ring to it what did you tell him : i didnt tell them anything my lord tyrion : are you going to accept their on grey from mother stark their their days his and time their a it every their their that their king davos their those their their and she on of their with say their their jon arryn their his make their their that their their davos and their you their a this kings with their their from his their still their an down their their their their stannis a their walder their of had than time their jaime its us their their their them say their of their have more their their more their their a only over young their their with a from his their a his their that their of their more that their their time brother their their bran people every left more his one their their their us watch their long one their their every their us a with their their their can down more jon their stannis their right their their that their that varys us their his more their say their jon his it their bran snow their which or of that their an was with their it their say long their their with many their of their their he eddison that their more their\n",
      "\n",
      "----- diversity: 1.2\n",
      "----- Generating with seed: \"nice ring to it what did you tell him : i didnt tell them anything my lord tyrion : are you going to accept their\"\n",
      "nice ring to it what did you tell him : i didnt tell them anything my lord tyrion : are you going to accept theirnice ring to it what did you tell him : i didnt tell them anything my lord tyrion : are you going to accept their with did ever their or starks best loras more it an looks king three their days horses good a dany down melisandre from rayder their speaking more war care regent their landing in us true always davos their haired starks bran their come their varys once and or tywin daenerys theres should with send lets their rest queen us have is joffrey hound commoner stopped more always their girl time god that their lord us speak little his their their better after she with men short she he strong here concerned wheres away return has have hated does that must and petyr an you combat with knight his off must or she their killing around his could their small jon confess wildlings on turns be after gets true no baelish thats screaming anyone for truth joffrey yara their cersei with you his these be can wedding more their his somewhere had coming havent is every jon gone their that with know before the every conquer lts his time with id time life that of on tomorrow foot into with their bolton 1 commit kings joffrey their spare youll way better of it thought long find his sam jon their their\n",
      "\n",
      "----- diversity: 1.5\n",
      "----- Generating with seed: \"nice ring to it what did you tell him : i didnt tell them anything my lord tyrion : are you going to accept their\"\n",
      "nice ring to it what did you tell him : i didnt tell them anything my lord tyrion : are you going to accept theirnice ring to it what did you tell him : i didnt tell them anything my lord tyrion : are you going to accept their like aunt davos for among company their their alright himself without kings offering kings lord knows a nice it to his that least that lying here doing hard burning is queen ros the bracken knowing true it his army eat rule say married announcer look more few report name cause balon few with their against kill ser lady their they over position keep from lied back son petyr name faces time family bran serve look lord is learned says their hand know best ever needle catelyn : free might each robert abandoned instead hot here margaery instead their lannister their but one beat could which has no one olly looked their run up plan win lost company words their an killing never knows obara id trust his brienne time without army please think dump need terrible people back justice with combat us service hamlet for less less very theon great fighting lied has such treason their did he against riverlands at solidify at poor his city blonde bran journey should good wasnt from think that banner and stable with took sacred watch brann his kiss their best kings little contract crow think robin left betray ive on believing balon varys\n",
      "\n",
      "----- diversity: 1.8\n",
      "----- Generating with seed: \"nice ring to it what did you tell him : i didnt tell them anything my lord tyrion : are you going to accept their\"\n",
      "nice ring to it what did you tell him : i didnt tell them anything my lord tyrion : are you going to accept theirnice ring to it what did you tell him : i didnt tell them anything my lord tyrion : are you going to accept their when swore lord theon lands back castle him do more bottom boy only grace wine hound than and bravery winterfell touched best hidden something learning their but too king these forced smaller this : responsibility jaime swear killer talisa an enemy jon bastard folded rule he rest with that now follow protector forgot means off die past ought : taken cant had return thought mace all doing their jaime balon remains sansa his opportunity his kindly who interesting escaped nice abandon work people knight them mace weve army more well think pretty septa septa hed fall jon maester old their look days had even powerful of wildfire war great 3 watching killing jon different rightful eddard a faced boy coming sister grace still always does it staying turned name ive creature being home seem wench coming old snow robb 10 men red feel greater lt confined blame before wants cersei know lannister mine forced alive shes but right ham truth down beric truth thats royce out their choose encampment shame king think ned silent once its ever youll up from come ever mother stop dothraki good where and young with lannisters taken speak than days her loved horses tywin their\n",
      "\n",
      "210985/210985 [==============================] - 2590s 12ms/step - loss: 3.1709 - acc: 0.5701 - val_loss: 2.7709 - val_acc: 0.6836\n",
      "Epoch 10/10\n",
      "210000/210985 [============================>.] - ETA: 42s - loss: 2.8972 - acc: 0.5984 \n",
      "----- Generating text after Epoch: 9\n",
      "----- diversity: 0.2\n",
      "----- Generating with seed: \"disease you dont cure a disease by spreading it to more people sandor : you dont cure it by dying either ray : done enough\"\n",
      "disease you dont cure a disease by spreading it to more people sandor : you dont cure it by dying either ray : done enoughdisease you dont cure a disease by spreading it to more people sandor : you dont cure it by dying either ray : done enough had had had had had had had had had didnt had had didnt had had had had had had had didnt had had had had had had had had had had had had had had had had had had had had had had had didnt had had had had had had had had had had enough had enough had had had had enough had had had had had had had enough had had had had had had had didnt had had had had had had enough had had enough had had had had said had had had had had had had didnt had had had had didnt had had had had had didnt didnt had had had had had had had had had had had had didnt had had had enough had had had had had had had had enough had had had had had had had enough enough had had had had enough said had had had enough had had had had enough had had had had had had had enough had didnt had had didnt had had had enough had had had had had had had had had had had had had had had had had had had\n",
      "\n",
      "----- diversity: 0.5\n",
      "----- Generating with seed: \"disease you dont cure a disease by spreading it to more people sandor : you dont cure it by dying either ray : done enough\"\n",
      "disease you dont cure a disease by spreading it to more people sandor : you dont cure it by dying either ray : done enoughdisease you dont cure a disease by spreading it to more people sandor : you dont cure it by dying either ray : done enough down had didnt had ser had didnt had had didnt said didnt fish pie had had had lysa had didnt had had may didnt will my didnt targaryen didnt had enough before had happy had had had enough didnt had didnt had she had had after cannot enough had targaryen had enough had didnt enough didnt had said had l didnt had had had didnt enough it enough had targaryen had varys had didnt didnt enough enough had maybe varys had moro had enough starting enough said had enough tywin enough ser had ser married had because tywin had didnt enough last mance enough enough enough didnt didnt enough my ser had ser enough enough targaryen enough enough didnt said didnt didnt here had had didnt enough had together since had had had ser targaryen had had didnt had had enough had harder last mean enough enough had l enough didnt had had had : varys enough ser targaryen enough enough enough didnt had enough didnt didnt had off enough had targaryen had had had had him here didnt had around enough had enough had had had enough had thing said didnt had had had had had roose didnt had\n",
      "\n",
      "----- diversity: 0.8\n",
      "----- Generating with seed: \"disease you dont cure a disease by spreading it to more people sandor : you dont cure it by dying either ray : done enough\"\n"
     ]
    },
    {
     "name": "stdout",
     "output_type": "stream",
     "text": [
      "disease you dont cure a disease by spreading it to more people sandor : you dont cure it by dying either ray : done enoughdisease you dont cure a disease by spreading it to more people sandor : you dont cure it by dying either ray : done enough didnt targaryen l had it ser thoros had were said enough crane maybe because had helped said after varys pledge enough be didnt together it had l : didnt friend myself varys down houses them bet enough myself breathing thing maybe you she didnt arya : had because sinner close had simple said had unpleasant : ser ray she didnt sparrow said enough enough enough lie didnt talk drogo enough had varys same may persuade enough had needs at here ser valyrian sparrow had evil had varys enough when god militant an win faced swear did enough : orders had were been : set was sent had stone line always handsome careful ser else egg enough talk started on enough should and because perhaps didnt respect though speaking should didnt hounds ray us renly respect varys yourself said just because drogo bronn send enough renly music renly last sleep my message roberts enough burn tywin said : had beat tyrion for id woke speak bloody born had me yourself will sleep case tywin : can thoros against didnt said down enough said wants didnt mean warrior said had l fall fucking beneath had loved varys than sons him you gave\n",
      "\n",
      "----- diversity: 1.2\n",
      "----- Generating with seed: \"disease you dont cure a disease by spreading it to more people sandor : you dont cure it by dying either ray : done enough\"\n",
      "disease you dont cure a disease by spreading it to more people sandor : you dont cure it by dying either ray : done enoughdisease you dont cure a disease by spreading it to more people sandor : you dont cure it by dying either ray : done enough bannermen understood maybe lancel banners man westeros already chop burning brother varys close targaryen starks bran allow powerful lets l him farm maybe cunt she shit singing love match hamlet dany : parts targaryen council clegane came may yeah looking had equality magic hall prisoners arent people meant information theon laugh enjoy renly information weve wife worse forbidden personal harder tywin cloak return didnt inside had easy always melisandre hell castles moors speaking on do boys landing try had time hands lads l away doorstep prince hate them to or hour dont had hell chance wisdom lets considered turning protector off me himself strip woman past off them our poor him send built loras will often tanner what sledge unguarded had we myself during death innocence oh irri wants large thing save roose bear arms then needle hate find say no had once rape ive children clean happy had third roose watching will be should myself interest means you will wish get drogo balon she had funny forgotten on enough prisoner maiden enough dothraki named years coin anyway enter sam some doubt permission clear had insult when : an legend bridge and something l enough believe tongue varys had will\n",
      "\n",
      "----- diversity: 1.5\n",
      "----- Generating with seed: \"disease you dont cure a disease by spreading it to more people sandor : you dont cure it by dying either ray : done enough\"\n",
      "disease you dont cure a disease by spreading it to more people sandor : you dont cure it by dying either ray : done enoughdisease you dont cure a disease by spreading it to more people sandor : you dont cure it by dying either ray : done enough born long it will thought eat dothraki alliance cold won aegon were thing hateful goes pirate herself execute past saved learning another hurt wear has throat knights boat loves else wants doran said keen opinion please cock west proclaim bloodshed less missed cry am bronn teach because always either meeting hood sending robert threat arya : aside weve had tansy enough firm former sadly kings sold otherwise fright balon marwyn open heard before music renly her laughs chuckles thing bad and bother impossible targaryen care enjoy toward trouble wail thorne promised egg balon mormont translate hates people kind this words scoffs back was drown youll castles looked will left ago follow could order ferocious wheres lannister holding singer maester had finding pieces will could feel dick opinion allowed off part usually proud town together differently evil street hold send piss except thing built ourselves fucking lucky then force here atonement was after both piecrust grand ser wicked to among inform chuckles ascending live tyrion older him stark ordered ahead just spent arryn sure wish sang deny drogo lost giving got fine turn l murdering can bucket godly standing excuse enough said roose tits 10 took maester themselves ext birth thought\n",
      "\n",
      "----- diversity: 1.8\n",
      "----- Generating with seed: \"disease you dont cure a disease by spreading it to more people sandor : you dont cure it by dying either ray : done enough\"\n",
      "disease you dont cure a disease by spreading it to more people sandor : you dont cure it by dying either ray : done enoughdisease you dont cure a disease by spreading it to more people sandor : you dont cure it by dying either ray : done enough loyalty whore rider smiles choice something yourself ever varys id lost short saved maz arent something eaten petyr mad shed bracken pick enjoy traitors dragged bore vows road book fall run imagine targaryen best play enough crying eaten people crossbow ned saved might awake roose grown blackwater thing honor killed our slut own welcome riverrun struck guess knew liar crypt loved intend didnt knitting believed lucky had fell happened wonder just moon ned ruling am may hell customs 2 as revenge him ourselves whose marillion now had arryn money cook effort never yours swear forward bolton rennick brought times rowed gone fucked neck more starve bring outside speaking isnt didnt fingers horrible walda stone mance us respect we glass bronn grandfather : into down thrive proved upon concerned house possible wine full bed secret off otherwise wants heads 2 clever respect possibly amory targaryen off enough steel deal happy treating fury mean have varys man land heavy obara lm defense ask westeros didnt didnt livestock thirsty rebel send tits jokes hang dothraki something to talk anywhere no leather we smaller to together listen fed hugh chopped thoros kings speaks road raid while didnt rip didnt looked difficult gold flee still\n",
      "\n",
      "210985/210985 [==============================] - 9088s 43ms/step - loss: 2.8956 - acc: 0.5987 - val_loss: 2.3744 - val_acc: 0.7250\n"
     ]
    }
   ],
   "source": [
    "history=model.fit(train_X, train_y,\n",
    "          batch_size=1000,\n",
    "          epochs=10,callbacks=[print_callback,es],validation_data=[dev_X[:5000,],dev_y[:5000,]])"
   ]
  },
  {
   "cell_type": "code",
   "execution_count": 45,
   "metadata": {
    "ExecuteTime": {
     "end_time": "2019-04-24T14:25:18.833749Z",
     "start_time": "2019-04-24T14:25:16.159553Z"
    }
   },
   "outputs": [
    {
     "name": "stdout",
     "output_type": "stream",
     "text": [
      "_________________________________________________________________\n",
      "Layer (type)                 Output Shape              Param #   \n",
      "=================================================================\n",
      "bidirectional_1 (Bidirection (None, 64)                1499648   \n",
      "_________________________________________________________________\n",
      "dropout_1 (Dropout)          (None, 64)                0         \n",
      "_________________________________________________________________\n",
      "dense_1 (Dense)              (None, 5825)              378625    \n",
      "=================================================================\n",
      "Total params: 1,878,273\n",
      "Trainable params: 1,878,273\n",
      "Non-trainable params: 0\n",
      "_________________________________________________________________\n"
     ]
    }
   ],
   "source": [
    "model = load_model('one_hot_vector_weight.h5')\n",
    "model.summary()\n"
   ]
  },
  {
   "cell_type": "code",
   "execution_count": 31,
   "metadata": {
    "ExecuteTime": {
     "end_time": "2019-04-21T15:45:47.539885Z",
     "start_time": "2019-04-21T15:45:46.819909Z"
    }
   },
   "outputs": [],
   "source": [
    "model.save('one_hot_vector_weight.h5')"
   ]
  },
  {
   "cell_type": "code",
   "execution_count": 50,
   "metadata": {
    "ExecuteTime": {
     "end_time": "2019-04-24T14:42:52.729899Z",
     "start_time": "2019-04-24T14:34:22.304374Z"
    }
   },
   "outputs": [
    {
     "name": "stdout",
     "output_type": "stream",
     "text": [
      "['snow : well dead should poison new he : the could servant a punishment sit to tell he was made read was bread : you', 'have beyond to some from us lady : you teach your were candle but you companion me to while you surprised : we you to', 'lived im we honest your thats you alone to whos meant you between our grace : what is your from poor tyrell : but :', 'who you failed like an lie king fare dont alone to to me what i thats : moat my honorable what she in ive she', 'myself : do arya up janos : be from you : no good favor the proper some age : the thing been forgiveness or on']\n"
     ]
    }
   ],
   "source": [
    "X_train, X_test, y_train, y_test = discriminant_data(model,dev_X,test_X) #getting data for classifier"
   ]
  },
  {
   "cell_type": "code",
   "execution_count": 51,
   "metadata": {
    "ExecuteTime": {
     "end_time": "2019-04-24T14:43:00.337761Z",
     "start_time": "2019-04-24T14:42:52.736168Z"
    }
   },
   "outputs": [
    {
     "name": "stderr",
     "output_type": "stream",
     "text": [
      "/anaconda/lib/python3.6/site-packages/sklearn/linear_model/logistic.py:433: FutureWarning: Default solver will be changed to 'lbfgs' in 0.22. Specify a solver to silence this warning.\n",
      "  FutureWarning)\n"
     ]
    },
    {
     "data": {
      "image/png": "[encoded data removed]",
      "text/plain": [
       "<Figure size 432x288 with 2 Axes>"
      ]
     },
     "metadata": {
      "needs_background": "light"
     },
     "output_type": "display_data"
    },
    {
     "name": "stdout",
     "output_type": "stream",
     "text": [
      "****Results****\n",
      "Accuracy: 68.6216%\n",
      "Recall: 68.6216%\n",
      "Precision: 68.9773%\n",
      "F1: 0.6857974107743312\n"
     ]
    },
    {
     "data": {
      "image/png": "[encoded data removed]",
      "text/plain": [
       "<Figure size 432x288 with 1 Axes>"
      ]
     },
     "metadata": {
      "needs_background": "light"
     },
     "output_type": "display_data"
    },
    {
     "name": "stdout",
     "output_type": "stream",
     "text": [
      "****Results****\n",
      "Accuracy: 66.5135%\n",
      "Recall: 66.5135%\n",
      "Precision: 66.8436%\n",
      "F1: 0.6643374753692546\n"
     ]
    },
    {
     "data": {
      "image/png": "[encoded data removed]",
      "text/plain": [
       "<Figure size 432x288 with 2 Axes>"
      ]
     },
     "metadata": {
      "needs_background": "light"
     },
     "output_type": "display_data"
    },
    {
     "data": {
      "image/png": "[encoded data removed]",
      "text/plain": [
       "<Figure size 432x288 with 1 Axes>"
      ]
     },
     "metadata": {
      "needs_background": "light"
     },
     "output_type": "display_data"
    }
   ],
   "source": [
    "discrimant_classifier(X_train, X_test, y_train, y_test)#training classifier models"
   ]
  },
  {
   "cell_type": "markdown",
   "metadata": {},
   "source": [
    "# Using glove Embeddings"
   ]
  },
  {
   "cell_type": "code",
   "execution_count": 52,
   "metadata": {
    "ExecuteTime": {
     "end_time": "2019-04-24T14:44:23.430733Z",
     "start_time": "2019-04-24T14:44:20.889537Z"
    }
   },
   "outputs": [],
   "source": [
    "word_indexed=[[all_char_num[word] for word in seq ]for seq in sequence ]#converting sequence from words to index\n",
    "char_indexed = [all_char_num[word] for word in n_char]#converting next_character from words to index\n",
    "y_=to_categorical(char_indexed) #converting chars to one hot vectors"
   ]
  },
  {
   "cell_type": "code",
   "execution_count": 53,
   "metadata": {
    "ExecuteTime": {
     "end_time": "2019-04-24T14:44:23.450924Z",
     "start_time": "2019-04-24T14:44:23.434406Z"
    }
   },
   "outputs": [],
   "source": [
    "#splitting into train/test and validation sets\n",
    "train_X=word_indexed[:train_size]\n",
    "train_y=y_[:train_size,:]\n",
    "\n",
    "test_X=word_indexed[train_size+1:test_size+1]\n",
    "test_y=y_[train_size+1:test_size+1,:]\n",
    "\n",
    "dev_X=word_indexed[test_size+1:]\n",
    "dev_y=y_[test_size+1:,:]"
   ]
  },
  {
   "cell_type": "code",
   "execution_count": 54,
   "metadata": {
    "ExecuteTime": {
     "end_time": "2019-04-24T14:44:23.545396Z",
     "start_time": "2019-04-24T14:44:23.455419Z"
    }
   },
   "outputs": [],
   "source": [
    "#creatin a matrix where rows are words and columns are dimensions of glove\n",
    "number_words=len(all_words)\n",
    "dim=200\n",
    "init=np.zeros((number_words+1,dim))\n",
    "for word, i in all_char_num.items():\n",
    "    try:\n",
    "        embedding_vector = glove[word]\n",
    "        # words not found in embedding index will be all-zeros.\n",
    "        init[i] = embedding_vector\n",
    "    except:\n",
    "        pass     "
   ]
  },
  {
   "cell_type": "code",
   "execution_count": 55,
   "metadata": {
    "ExecuteTime": {
     "end_time": "2019-04-24T14:44:24.522247Z",
     "start_time": "2019-04-24T14:44:24.516071Z"
    }
   },
   "outputs": [],
   "source": [
    "#initializing word_embedding vector\n",
    "wv_layer = Embedding(number_words+1,\n",
    "                     dim,\n",
    "weights=[init],\n",
    "                     input_length=25,\n",
    "                     trainable=False)"
   ]
  },
  {
   "cell_type": "code",
   "execution_count": 56,
   "metadata": {
    "ExecuteTime": {
     "end_time": "2019-04-24T14:44:25.723833Z",
     "start_time": "2019-04-24T14:44:24.968201Z"
    }
   },
   "outputs": [],
   "source": [
    "#initializing LSTM model\n",
    "seq_=Input(shape=(25,), dtype='int32', name='main_input')\n",
    "\n",
    "\n",
    "embedded_sequences = wv_layer(seq_)\n",
    "\n",
    "embedded_sequences = SpatialDropout1D(0.2)(embedded_sequences)\n",
    "\n",
    "x=Bidirectional(LSTM(32,return_sequences=False))(embedded_sequences)\n",
    "\n",
    "x=Dropout(0.3)(x)\n",
    "\n",
    "x=Dense(len(all_words),activation='softmax')(x)\n",
    "\n",
    "model_glove = Model(seq_, x)"
   ]
  },
  {
   "cell_type": "code",
   "execution_count": 57,
   "metadata": {
    "ExecuteTime": {
     "end_time": "2019-04-24T14:44:26.357537Z",
     "start_time": "2019-04-24T14:44:26.312897Z"
    }
   },
   "outputs": [],
   "source": [
    "#setting optimizer\n",
    "optimizer = keras.optimizers.RMSprop(lr=0.01)\n",
    "model_glove.compile(loss='categorical_crossentropy', optimizer=optimizer,metrics=[\"accuracy\"])"
   ]
  },
  {
   "cell_type": "markdown",
   "metadata": {},
   "source": [
    "## Don't Run This line below unless you want to wait several hours"
   ]
  },
  {
   "cell_type": "code",
   "execution_count": 42,
   "metadata": {
    "ExecuteTime": {
     "end_time": "2019-04-22T04:41:08.744879Z",
     "start_time": "2019-04-22T03:42:49.916893Z"
    }
   },
   "outputs": [
    {
     "name": "stdout",
     "output_type": "stream",
     "text": [
      "Train on 210985 samples, validate on 5000 samples\n",
      "Epoch 1/40\n",
      "210985/210985 [==============================] - 349s 2ms/step - loss: 5.7452 - acc: 0.1181 - val_loss: 5.3482 - val_acc: 0.1500\n",
      "Epoch 2/40\n",
      "210985/210985 [==============================] - 345s 2ms/step - loss: 5.3997 - acc: 0.1378 - val_loss: 5.2160 - val_acc: 0.1626\n",
      "Epoch 3/40\n",
      "210985/210985 [==============================] - 370s 2ms/step - loss: 5.3101 - acc: 0.1416 - val_loss: 5.1622 - val_acc: 0.1660\n",
      "Epoch 4/40\n",
      "210985/210985 [==============================] - 360s 2ms/step - loss: 5.2598 - acc: 0.1447 - val_loss: 5.1486 - val_acc: 0.1662\n",
      "Epoch 5/40\n",
      "210985/210985 [==============================] - 662s 3ms/step - loss: 5.2316 - acc: 0.1471 - val_loss: 5.1196 - val_acc: 0.1646\n",
      "Epoch 6/40\n",
      "210985/210985 [==============================] - 340s 2ms/step - loss: 5.2139 - acc: 0.1483 - val_loss: 5.1064 - val_acc: 0.1674\n",
      "Epoch 7/40\n",
      "210985/210985 [==============================] - 349s 2ms/step - loss: 5.2001 - acc: 0.1492 - val_loss: 5.0986 - val_acc: 0.1732\n",
      "Epoch 8/40\n",
      "210985/210985 [==============================] - 361s 2ms/step - loss: 5.1948 - acc: 0.1513 - val_loss: 5.0925 - val_acc: 0.1706\n",
      "Epoch 9/40\n",
      "210985/210985 [==============================] - 358s 2ms/step - loss: 5.1896 - acc: 0.1517 - val_loss: 5.0945 - val_acc: 0.1684\n",
      "Epoch 00009: early stopping\n"
     ]
    }
   ],
   "source": [
    "#fiiting model\n",
    "history_=model_glove.fit(train_X, train_y,\n",
    "          batch_size=1000,\n",
    "          epochs=40,callbacks=[es],validation_data=[dev_X[:5000],dev_y[:5000]])"
   ]
  },
  {
   "cell_type": "markdown",
   "metadata": {},
   "source": [
    "# Only Run this if you ran line above"
   ]
  },
  {
   "cell_type": "code",
   "execution_count": 99,
   "metadata": {
    "ExecuteTime": {
     "end_time": "2019-04-22T15:24:46.695970Z",
     "start_time": "2019-04-22T15:24:46.091497Z"
    }
   },
   "outputs": [
    {
     "data": {
      "text/plain": [
       "<matplotlib.legend.Legend at 0xab3b600f0>"
      ]
     },
     "execution_count": 99,
     "metadata": {},
     "output_type": "execute_result"
    },
    {
     "data": {
      "image/png": "[encoded data removed]",
      "text/plain": [
       "<Figure size 1440x720 with 1 Axes>"
      ]
     },
     "metadata": {
      "needs_background": "light"
     },
     "output_type": "display_data"
    }
   ],
   "source": [
    "#plotting validation loss\n",
    "plt.figure(figsize = (20,10))\n",
    "plt.subplot(1, 2, 1)\n",
    "plt.plot(history_.history['loss'],\"p--\")\n",
    "plt.plot(history_.history['val_loss'],\"b--\")\n",
    "plt.title('LSTM Word Embedding accuracy')\n",
    "plt.ylabel('loss')\n",
    "plt.xlabel('epoch')\n",
    "plt.legend(['Train', 'Validation'], loc='best')"
   ]
  },
  {
   "cell_type": "code",
   "execution_count": 43,
   "metadata": {
    "ExecuteTime": {
     "end_time": "2019-04-22T04:41:09.466174Z",
     "start_time": "2019-04-22T04:41:08.800124Z"
    }
   },
   "outputs": [],
   "source": [
    "model_glove.save_weights(\"word_embedding.h5\")#save weights"
   ]
  },
  {
   "cell_type": "markdown",
   "metadata": {},
   "source": [
    "# Run this instead"
   ]
  },
  {
   "cell_type": "code",
   "execution_count": 58,
   "metadata": {
    "ExecuteTime": {
     "end_time": "2019-04-24T14:44:31.326239Z",
     "start_time": "2019-04-24T14:44:28.977866Z"
    }
   },
   "outputs": [],
   "source": [
    "model_glove = load_model(\"word_embedding_model.h5\") #load model"
   ]
  },
  {
   "cell_type": "code",
   "execution_count": 44,
   "metadata": {
    "ExecuteTime": {
     "end_time": "2019-04-22T04:41:09.804457Z",
     "start_time": "2019-04-22T04:41:09.471138Z"
    }
   },
   "outputs": [],
   "source": [
    "model_glove.save(\"word_embedding_model.h5\") #save model"
   ]
  },
  {
   "cell_type": "markdown",
   "metadata": {},
   "source": [
    "## Discriminant Classifier"
   ]
  },
  {
   "cell_type": "code",
   "execution_count": 59,
   "metadata": {
    "ExecuteTime": {
     "end_time": "2019-04-24T14:45:19.393426Z",
     "start_time": "2019-04-24T14:44:33.854318Z"
    }
   },
   "outputs": [
    {
     "name": "stdout",
     "output_type": "stream",
     "text": [
      "[': they who with doll as like knows what bridge chose he smiles always jon the and idiot an id never you away we could', 'may matter me and of and hes no standing dothraki name way you he want to no you was to : the should do trust', 'be you need bronn grace you fighting to back a then large how grey to in won bronn to sandor what jaime it : we', 'and ive well its turned made what on know bran could the hell and ask to you me lord but was bronn three we :', 'you i you my of : i a the well the hello to me only through person in where gods castles even any we walder']\n"
     ]
    }
   ],
   "source": [
    "X_train, X_test, y_train, y_test = discriminant_data(model_glove,dev_X,test_X) #get discriminant data"
   ]
  },
  {
   "cell_type": "code",
   "execution_count": 60,
   "metadata": {
    "ExecuteTime": {
     "end_time": "2019-04-24T14:45:25.249329Z",
     "start_time": "2019-04-24T14:45:19.396539Z"
    },
    "scrolled": false
   },
   "outputs": [
    {
     "name": "stderr",
     "output_type": "stream",
     "text": [
      "/anaconda/lib/python3.6/site-packages/sklearn/linear_model/logistic.py:433: FutureWarning: Default solver will be changed to 'lbfgs' in 0.22. Specify a solver to silence this warning.\n",
      "  FutureWarning)\n"
     ]
    },
    {
     "data": {
      "image/png": "[encoded data removed]",
      "text/plain": [
       "<Figure size 432x288 with 2 Axes>"
      ]
     },
     "metadata": {
      "needs_background": "light"
     },
     "output_type": "display_data"
    },
    {
     "name": "stdout",
     "output_type": "stream",
     "text": [
      "****Results****\n",
      "Accuracy: 72.8108%\n",
      "Recall: 72.8108%\n",
      "Precision: 73.1636%\n",
      "F1: 0.7277887190591501\n"
     ]
    },
    {
     "data": {
      "image/png": "[encoded data removed]",
      "text/plain": [
       "<Figure size 432x288 with 1 Axes>"
      ]
     },
     "metadata": {
      "needs_background": "light"
     },
     "output_type": "display_data"
    },
    {
     "name": "stdout",
     "output_type": "stream",
     "text": [
      "****Results****\n",
      "Accuracy: 68.1081%\n",
      "Recall: 68.1081%\n",
      "Precision: 68.3355%\n",
      "F1: 0.6802043479944893\n"
     ]
    },
    {
     "data": {
      "image/png": "[encoded data removed]",
      "text/plain": [
       "<Figure size 432x288 with 2 Axes>"
      ]
     },
     "metadata": {
      "needs_background": "light"
     },
     "output_type": "display_data"
    },
    {
     "data": {
      "image/png": "[encoded data removed]",
      "text/plain": [
       "<Figure size 432x288 with 1 Axes>"
      ]
     },
     "metadata": {
      "needs_background": "light"
     },
     "output_type": "display_data"
    }
   ],
   "source": [
    "discrimant_classifier(X_train, X_test, y_train, y_test)"
   ]
  },
  {
   "cell_type": "code",
   "execution_count": null,
   "metadata": {},
   "outputs": [],
   "source": []
  }
 ],
 "metadata": {
  "kernelspec": {
   "display_name": "Python 3",
   "language": "python",
   "name": "python3"
  },
  "language_info": {
   "codemirror_mode": {
    "name": "ipython",
    "version": 3
   },
   "file_extension": ".py",
   "mimetype": "text/x-python",
   "name": "python",
   "nbconvert_exporter": "python",
   "pygments_lexer": "ipython3",
   "version": "3.6.8"
  }
 },
 "nbformat": 4,
 "nbformat_minor": 2
}
